{
 "cells": [
  {
   "cell_type": "raw",
   "id": "948532ad",
   "metadata": {},
   "source": [
    "!pip install tqdm"
   ]
  },
  {
   "cell_type": "code",
   "execution_count": 1,
   "id": "7a3bd27a",
   "metadata": {},
   "outputs": [],
   "source": [
    "import numpy as np\n",
    "import pandas as pd\n",
    "import time\n",
    "from tqdm.notebook import tqdm"
   ]
  },
  {
   "cell_type": "code",
   "execution_count": 2,
   "id": "151193b5",
   "metadata": {},
   "outputs": [],
   "source": [
    "from NaverStockPriceDaily import *"
   ]
  },
  {
   "cell_type": "code",
   "execution_count": 3,
   "id": "d4cbb7c9",
   "metadata": {},
   "outputs": [],
   "source": [
    "stock = pd.DataFrame()"
   ]
  },
  {
   "cell_type": "code",
   "execution_count": 4,
   "id": "e4db8bd1",
   "metadata": {},
   "outputs": [
    {
     "data": {
      "application/vnd.jupyter.widget-view+json": {
       "model_id": "c48315d787764575b68059ffa0ab284b",
       "version_major": 2,
       "version_minor": 0
      },
      "text/plain": [
       "  0%|          | 0/10 [00:00<?, ?it/s]"
      ]
     },
     "metadata": {},
     "output_type": "display_data"
    }
   ],
   "source": [
    "for i in tqdm(range(1, 11)):\n",
    "    df = stockPriceDaily(ticker = '005930', page = i)\n",
    "    stock = pd.concat(objs = [stock, df], ignore_index = True)\n",
    "    time.sleep(1)"
   ]
  },
  {
   "cell_type": "code",
   "execution_count": 5,
   "id": "90e155a4",
   "metadata": {
    "collapsed": true
   },
   "outputs": [
    {
     "name": "stdout",
     "output_type": "stream",
     "text": [
      "<class 'pandas.core.frame.DataFrame'>\n",
      "RangeIndex: 100 entries, 0 to 99\n",
      "Data columns (total 7 columns):\n",
      " #   Column  Non-Null Count  Dtype  \n",
      "---  ------  --------------  -----  \n",
      " 0   날짜      100 non-null    object \n",
      " 1   종가      100 non-null    float64\n",
      " 2   전일비     100 non-null    float64\n",
      " 3   시가      100 non-null    float64\n",
      " 4   고가      100 non-null    float64\n",
      " 5   저가      100 non-null    float64\n",
      " 6   거래량     100 non-null    float64\n",
      "dtypes: float64(6), object(1)\n",
      "memory usage: 5.6+ KB\n"
     ]
    }
   ],
   "source": [
    "stock.info()"
   ]
  },
  {
   "cell_type": "code",
   "execution_count": 6,
   "id": "c0069a6d",
   "metadata": {
    "collapsed": true
   },
   "outputs": [
    {
     "data": {
      "text/html": [
       "<div>\n",
       "<style scoped>\n",
       "    .dataframe tbody tr th:only-of-type {\n",
       "        vertical-align: middle;\n",
       "    }\n",
       "\n",
       "    .dataframe tbody tr th {\n",
       "        vertical-align: top;\n",
       "    }\n",
       "\n",
       "    .dataframe thead th {\n",
       "        text-align: right;\n",
       "    }\n",
       "</style>\n",
       "<table border=\"1\" class=\"dataframe\">\n",
       "  <thead>\n",
       "    <tr style=\"text-align: right;\">\n",
       "      <th></th>\n",
       "      <th>날짜</th>\n",
       "      <th>종가</th>\n",
       "      <th>전일비</th>\n",
       "      <th>시가</th>\n",
       "      <th>고가</th>\n",
       "      <th>저가</th>\n",
       "      <th>거래량</th>\n",
       "    </tr>\n",
       "  </thead>\n",
       "  <tbody>\n",
       "    <tr>\n",
       "      <th>0</th>\n",
       "      <td>2022.10.20</td>\n",
       "      <td>55500.0</td>\n",
       "      <td>300.0</td>\n",
       "      <td>55200.0</td>\n",
       "      <td>56000.0</td>\n",
       "      <td>55100.0</td>\n",
       "      <td>15765663.0</td>\n",
       "    </tr>\n",
       "    <tr>\n",
       "      <th>1</th>\n",
       "      <td>2022.10.19</td>\n",
       "      <td>55800.0</td>\n",
       "      <td>700.0</td>\n",
       "      <td>56700.0</td>\n",
       "      <td>56900.0</td>\n",
       "      <td>55700.0</td>\n",
       "      <td>12660652.0</td>\n",
       "    </tr>\n",
       "    <tr>\n",
       "      <th>2</th>\n",
       "      <td>2022.10.18</td>\n",
       "      <td>56500.0</td>\n",
       "      <td>100.0</td>\n",
       "      <td>56700.0</td>\n",
       "      <td>57100.0</td>\n",
       "      <td>55800.0</td>\n",
       "      <td>14820702.0</td>\n",
       "    </tr>\n",
       "    <tr>\n",
       "      <th>3</th>\n",
       "      <td>2022.10.17</td>\n",
       "      <td>56600.0</td>\n",
       "      <td>300.0</td>\n",
       "      <td>55800.0</td>\n",
       "      <td>57000.0</td>\n",
       "      <td>55700.0</td>\n",
       "      <td>13641878.0</td>\n",
       "    </tr>\n",
       "    <tr>\n",
       "      <th>4</th>\n",
       "      <td>2022.10.14</td>\n",
       "      <td>56300.0</td>\n",
       "      <td>1100.0</td>\n",
       "      <td>56200.0</td>\n",
       "      <td>56500.0</td>\n",
       "      <td>55800.0</td>\n",
       "      <td>12924326.0</td>\n",
       "    </tr>\n",
       "  </tbody>\n",
       "</table>\n",
       "</div>"
      ],
      "text/plain": [
       "           날짜       종가     전일비       시가       고가       저가         거래량\n",
       "0  2022.10.20  55500.0   300.0  55200.0  56000.0  55100.0  15765663.0\n",
       "1  2022.10.19  55800.0   700.0  56700.0  56900.0  55700.0  12660652.0\n",
       "2  2022.10.18  56500.0   100.0  56700.0  57100.0  55800.0  14820702.0\n",
       "3  2022.10.17  56600.0   300.0  55800.0  57000.0  55700.0  13641878.0\n",
       "4  2022.10.14  56300.0  1100.0  56200.0  56500.0  55800.0  12924326.0"
      ]
     },
     "execution_count": 6,
     "metadata": {},
     "output_type": "execute_result"
    }
   ],
   "source": [
    "stock.head()"
   ]
  },
  {
   "cell_type": "code",
   "execution_count": 7,
   "id": "baaecd1d",
   "metadata": {},
   "outputs": [],
   "source": [
    "stock = stock.sort_values(by = ['날짜'])"
   ]
  },
  {
   "cell_type": "code",
   "execution_count": 8,
   "id": "dcd7be42",
   "metadata": {
    "collapsed": true
   },
   "outputs": [
    {
     "data": {
      "text/html": [
       "<div>\n",
       "<style scoped>\n",
       "    .dataframe tbody tr th:only-of-type {\n",
       "        vertical-align: middle;\n",
       "    }\n",
       "\n",
       "    .dataframe tbody tr th {\n",
       "        vertical-align: top;\n",
       "    }\n",
       "\n",
       "    .dataframe thead th {\n",
       "        text-align: right;\n",
       "    }\n",
       "</style>\n",
       "<table border=\"1\" class=\"dataframe\">\n",
       "  <thead>\n",
       "    <tr style=\"text-align: right;\">\n",
       "      <th></th>\n",
       "      <th>날짜</th>\n",
       "      <th>종가</th>\n",
       "      <th>전일비</th>\n",
       "      <th>시가</th>\n",
       "      <th>고가</th>\n",
       "      <th>저가</th>\n",
       "      <th>거래량</th>\n",
       "    </tr>\n",
       "  </thead>\n",
       "  <tbody>\n",
       "    <tr>\n",
       "      <th>99</th>\n",
       "      <td>2022.05.25</td>\n",
       "      <td>66400.0</td>\n",
       "      <td>100.0</td>\n",
       "      <td>66700.0</td>\n",
       "      <td>67100.0</td>\n",
       "      <td>65900.0</td>\n",
       "      <td>15150490.0</td>\n",
       "    </tr>\n",
       "    <tr>\n",
       "      <th>98</th>\n",
       "      <td>2022.05.26</td>\n",
       "      <td>65900.0</td>\n",
       "      <td>500.0</td>\n",
       "      <td>66300.0</td>\n",
       "      <td>67200.0</td>\n",
       "      <td>65500.0</td>\n",
       "      <td>15970890.0</td>\n",
       "    </tr>\n",
       "    <tr>\n",
       "      <th>97</th>\n",
       "      <td>2022.05.27</td>\n",
       "      <td>66500.0</td>\n",
       "      <td>600.0</td>\n",
       "      <td>66700.0</td>\n",
       "      <td>66900.0</td>\n",
       "      <td>66200.0</td>\n",
       "      <td>11405555.0</td>\n",
       "    </tr>\n",
       "    <tr>\n",
       "      <th>96</th>\n",
       "      <td>2022.05.30</td>\n",
       "      <td>67700.0</td>\n",
       "      <td>1200.0</td>\n",
       "      <td>67500.0</td>\n",
       "      <td>67800.0</td>\n",
       "      <td>66900.0</td>\n",
       "      <td>14255484.0</td>\n",
       "    </tr>\n",
       "    <tr>\n",
       "      <th>95</th>\n",
       "      <td>2022.05.31</td>\n",
       "      <td>67400.0</td>\n",
       "      <td>300.0</td>\n",
       "      <td>67500.0</td>\n",
       "      <td>67500.0</td>\n",
       "      <td>66700.0</td>\n",
       "      <td>24365002.0</td>\n",
       "    </tr>\n",
       "  </tbody>\n",
       "</table>\n",
       "</div>"
      ],
      "text/plain": [
       "            날짜       종가     전일비       시가       고가       저가         거래량\n",
       "99  2022.05.25  66400.0   100.0  66700.0  67100.0  65900.0  15150490.0\n",
       "98  2022.05.26  65900.0   500.0  66300.0  67200.0  65500.0  15970890.0\n",
       "97  2022.05.27  66500.0   600.0  66700.0  66900.0  66200.0  11405555.0\n",
       "96  2022.05.30  67700.0  1200.0  67500.0  67800.0  66900.0  14255484.0\n",
       "95  2022.05.31  67400.0   300.0  67500.0  67500.0  66700.0  24365002.0"
      ]
     },
     "execution_count": 8,
     "metadata": {},
     "output_type": "execute_result"
    }
   ],
   "source": [
    "stock.head()"
   ]
  },
  {
   "cell_type": "code",
   "execution_count": 9,
   "id": "bfa93659",
   "metadata": {},
   "outputs": [],
   "source": [
    "stock['날짜'] = stock['날짜'].astype(np.datetime64)"
   ]
  },
  {
   "cell_type": "code",
   "execution_count": 10,
   "id": "9fcb6adb",
   "metadata": {},
   "outputs": [],
   "source": [
    "stock['종가1'] = stock['종가'].shift(1)"
   ]
  },
  {
   "cell_type": "code",
   "execution_count": 11,
   "id": "48da82d5",
   "metadata": {
    "collapsed": true
   },
   "outputs": [
    {
     "data": {
      "text/html": [
       "<div>\n",
       "<style scoped>\n",
       "    .dataframe tbody tr th:only-of-type {\n",
       "        vertical-align: middle;\n",
       "    }\n",
       "\n",
       "    .dataframe tbody tr th {\n",
       "        vertical-align: top;\n",
       "    }\n",
       "\n",
       "    .dataframe thead th {\n",
       "        text-align: right;\n",
       "    }\n",
       "</style>\n",
       "<table border=\"1\" class=\"dataframe\">\n",
       "  <thead>\n",
       "    <tr style=\"text-align: right;\">\n",
       "      <th></th>\n",
       "      <th>날짜</th>\n",
       "      <th>종가</th>\n",
       "      <th>전일비</th>\n",
       "      <th>시가</th>\n",
       "      <th>고가</th>\n",
       "      <th>저가</th>\n",
       "      <th>거래량</th>\n",
       "      <th>종가1</th>\n",
       "    </tr>\n",
       "  </thead>\n",
       "  <tbody>\n",
       "    <tr>\n",
       "      <th>99</th>\n",
       "      <td>2022-05-25</td>\n",
       "      <td>66400.0</td>\n",
       "      <td>100.0</td>\n",
       "      <td>66700.0</td>\n",
       "      <td>67100.0</td>\n",
       "      <td>65900.0</td>\n",
       "      <td>15150490.0</td>\n",
       "      <td>NaN</td>\n",
       "    </tr>\n",
       "    <tr>\n",
       "      <th>98</th>\n",
       "      <td>2022-05-26</td>\n",
       "      <td>65900.0</td>\n",
       "      <td>500.0</td>\n",
       "      <td>66300.0</td>\n",
       "      <td>67200.0</td>\n",
       "      <td>65500.0</td>\n",
       "      <td>15970890.0</td>\n",
       "      <td>66400.0</td>\n",
       "    </tr>\n",
       "    <tr>\n",
       "      <th>97</th>\n",
       "      <td>2022-05-27</td>\n",
       "      <td>66500.0</td>\n",
       "      <td>600.0</td>\n",
       "      <td>66700.0</td>\n",
       "      <td>66900.0</td>\n",
       "      <td>66200.0</td>\n",
       "      <td>11405555.0</td>\n",
       "      <td>65900.0</td>\n",
       "    </tr>\n",
       "    <tr>\n",
       "      <th>96</th>\n",
       "      <td>2022-05-30</td>\n",
       "      <td>67700.0</td>\n",
       "      <td>1200.0</td>\n",
       "      <td>67500.0</td>\n",
       "      <td>67800.0</td>\n",
       "      <td>66900.0</td>\n",
       "      <td>14255484.0</td>\n",
       "      <td>66500.0</td>\n",
       "    </tr>\n",
       "    <tr>\n",
       "      <th>95</th>\n",
       "      <td>2022-05-31</td>\n",
       "      <td>67400.0</td>\n",
       "      <td>300.0</td>\n",
       "      <td>67500.0</td>\n",
       "      <td>67500.0</td>\n",
       "      <td>66700.0</td>\n",
       "      <td>24365002.0</td>\n",
       "      <td>67700.0</td>\n",
       "    </tr>\n",
       "  </tbody>\n",
       "</table>\n",
       "</div>"
      ],
      "text/plain": [
       "           날짜       종가     전일비       시가       고가       저가         거래량      종가1\n",
       "99 2022-05-25  66400.0   100.0  66700.0  67100.0  65900.0  15150490.0      NaN\n",
       "98 2022-05-26  65900.0   500.0  66300.0  67200.0  65500.0  15970890.0  66400.0\n",
       "97 2022-05-27  66500.0   600.0  66700.0  66900.0  66200.0  11405555.0  65900.0\n",
       "96 2022-05-30  67700.0  1200.0  67500.0  67800.0  66900.0  14255484.0  66500.0\n",
       "95 2022-05-31  67400.0   300.0  67500.0  67500.0  66700.0  24365002.0  67700.0"
      ]
     },
     "execution_count": 11,
     "metadata": {},
     "output_type": "execute_result"
    }
   ],
   "source": [
    "stock.head()"
   ]
  },
  {
   "cell_type": "code",
   "execution_count": 12,
   "id": "3ed4aa56",
   "metadata": {},
   "outputs": [
    {
     "data": {
      "text/plain": [
       "0.9676035500113065"
      ]
     },
     "execution_count": 12,
     "metadata": {},
     "output_type": "execute_result"
    }
   ],
   "source": [
    "stock['종가'].corr(stock['종가1'])"
   ]
  },
  {
   "cell_type": "code",
   "execution_count": 13,
   "id": "87f351e6",
   "metadata": {
    "collapsed": true
   },
   "outputs": [
    {
     "data": {
      "text/plain": [
       "99    66400.000000\n",
       "98    66150.000000\n",
       "97    66266.666667\n",
       "96    66700.000000\n",
       "95    67200.000000\n",
       "          ...     \n",
       "4     55766.666667\n",
       "3     56033.333333\n",
       "2     56466.666667\n",
       "1     56300.000000\n",
       "0     55933.333333\n",
       "Name: 종가, Length: 100, dtype: float64"
      ]
     },
     "execution_count": 13,
     "metadata": {},
     "output_type": "execute_result"
    }
   ],
   "source": [
    "stock['종가'].rolling(window = 3, min_periods = 1).mean()"
   ]
  },
  {
   "cell_type": "code",
   "execution_count": 14,
   "id": "46d1d8d2",
   "metadata": {},
   "outputs": [],
   "source": [
    "import seaborn as sns"
   ]
  },
  {
   "cell_type": "code",
   "execution_count": 15,
   "id": "2ee0ef0a",
   "metadata": {},
   "outputs": [
    {
     "name": "stderr",
     "output_type": "stream",
     "text": [
      "C:\\Users\\15U40N\\Venv\\lib\\site-packages\\IPython\\core\\events.py:89: UserWarning: Glyph 45216 (\\N{HANGUL SYLLABLE NAL}) missing from current font.\n",
      "  func(*args, **kwargs)\n",
      "C:\\Users\\15U40N\\Venv\\lib\\site-packages\\IPython\\core\\events.py:89: UserWarning: Glyph 51676 (\\N{HANGUL SYLLABLE JJA}) missing from current font.\n",
      "  func(*args, **kwargs)\n",
      "C:\\Users\\15U40N\\Venv\\lib\\site-packages\\IPython\\core\\events.py:89: UserWarning: Glyph 51333 (\\N{HANGUL SYLLABLE JONG}) missing from current font.\n",
      "  func(*args, **kwargs)\n",
      "C:\\Users\\15U40N\\Venv\\lib\\site-packages\\IPython\\core\\events.py:89: UserWarning: Glyph 44032 (\\N{HANGUL SYLLABLE GA}) missing from current font.\n",
      "  func(*args, **kwargs)\n",
      "C:\\Users\\15U40N\\Venv\\lib\\site-packages\\IPython\\core\\pylabtools.py:151: UserWarning: Glyph 45216 (\\N{HANGUL SYLLABLE NAL}) missing from current font.\n",
      "  fig.canvas.print_figure(bytes_io, **kw)\n",
      "C:\\Users\\15U40N\\Venv\\lib\\site-packages\\IPython\\core\\pylabtools.py:151: UserWarning: Glyph 51676 (\\N{HANGUL SYLLABLE JJA}) missing from current font.\n",
      "  fig.canvas.print_figure(bytes_io, **kw)\n",
      "C:\\Users\\15U40N\\Venv\\lib\\site-packages\\IPython\\core\\pylabtools.py:151: UserWarning: Glyph 51333 (\\N{HANGUL SYLLABLE JONG}) missing from current font.\n",
      "  fig.canvas.print_figure(bytes_io, **kw)\n",
      "C:\\Users\\15U40N\\Venv\\lib\\site-packages\\IPython\\core\\pylabtools.py:151: UserWarning: Glyph 44032 (\\N{HANGUL SYLLABLE GA}) missing from current font.\n",
      "  fig.canvas.print_figure(bytes_io, **kw)\n"
     ]
    },
    {
     "data": {
      "image/png": "[encoded data removed]",
      "text/plain": [
       "<Figure size 640x480 with 1 Axes>"
      ]
     },
     "metadata": {},
     "output_type": "display_data"
    }
   ],
   "source": [
    "sns.lineplot(data = stock, x = '날짜', y = '종가');"
   ]
  },
  {
   "cell_type": "code",
   "execution_count": null,
   "id": "a17e590d",
   "metadata": {},
   "outputs": [],
   "source": []
  }
 ],
 "metadata": {
  "kernelspec": {
   "display_name": "Python 3 (ipykernel)",
   "language": "python",
   "name": "python3"
  },
  "language_info": {
   "codemirror_mode": {
    "name": "ipython",
    "version": 3
   },
   "file_extension": ".py",
   "mimetype": "text/x-python",
   "name": "python",
   "nbconvert_exporter": "python",
   "pygments_lexer": "ipython3",
   "version": "3.10.8"
  }
 },
 "nbformat": 4,
 "nbformat_minor": 5
}
