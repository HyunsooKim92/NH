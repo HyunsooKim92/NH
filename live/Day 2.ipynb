{
 "cells": [
  {
   "cell_type": "code",
   "execution_count": null,
   "id": "58bb2efe",
   "metadata": {},
   "outputs": [],
   "source": [
    "%whos"
   ]
  },
  {
   "cell_type": "code",
   "execution_count": null,
   "id": "92b447d5",
   "metadata": {},
   "outputs": [],
   "source": [
    "score = input('점수: ')"
   ]
  },
  {
   "cell_type": "code",
   "execution_count": null,
   "id": "f2a74310",
   "metadata": {},
   "outputs": [],
   "source": [
    "%whos"
   ]
  },
  {
   "cell_type": "code",
   "execution_count": null,
   "id": "cbb38446",
   "metadata": {},
   "outputs": [],
   "source": [
    "score"
   ]
  },
  {
   "cell_type": "code",
   "execution_count": null,
   "id": "919f14a0",
   "metadata": {},
   "outputs": [],
   "source": [
    "score = float(score)\n",
    "score"
   ]
  },
  {
   "cell_type": "code",
   "execution_count": null,
   "id": "9ea70b95",
   "metadata": {},
   "outputs": [],
   "source": [
    "if score >= 90:\n",
    "    print('합격')"
   ]
  },
  {
   "cell_type": "code",
   "execution_count": null,
   "id": "febb14d4",
   "metadata": {},
   "outputs": [],
   "source": [
    "score = float(input('점수: '))\n",
    "if score >= 90:\n",
    "    print('합격')\n",
    "elif score >= 80:\n",
    "    print('재검사')\n",
    "else:\n",
    "    print('불합격')"
   ]
  },
  {
   "cell_type": "code",
   "execution_count": null,
   "id": "6a36ff17",
   "metadata": {},
   "outputs": [],
   "source": [
    "menu = ['짜장면', '탕수육', '깐풍기', '짬뽕', '전가복', '샥스핀']"
   ]
  },
  {
   "cell_type": "code",
   "execution_count": null,
   "id": "7437e49c",
   "metadata": {},
   "outputs": [],
   "source": [
    "for item in menu:\n",
    "    print('팀장님,', item, '시킬까요?')"
   ]
  },
  {
   "cell_type": "code",
   "execution_count": null,
   "id": "c702fcfd",
   "metadata": {},
   "outputs": [],
   "source": [
    "for item in menu:\n",
    "    print('팀장님,', item, '시킬까요?')\n",
    "    if item in ['짜장면', '짬뽕']:\n",
    "        print('> 요리부터 주문합시다!')\n",
    "    print('> 다음 메뉴는 뭔가요?\\n')"
   ]
  },
  {
   "cell_type": "code",
   "execution_count": null,
   "id": "e22c8ba0",
   "metadata": {},
   "outputs": [],
   "source": [
    "import random"
   ]
  },
  {
   "cell_type": "code",
   "execution_count": null,
   "id": "c15d9767",
   "metadata": {},
   "outputs": [],
   "source": [
    "random.seed(1234)"
   ]
  },
  {
   "cell_type": "code",
   "execution_count": null,
   "id": "fd419115",
   "metadata": {},
   "outputs": [],
   "source": [
    "scores = random.sample(range(50, 100), 10)\n",
    "scores"
   ]
  },
  {
   "cell_type": "code",
   "execution_count": null,
   "id": "df6c8c0c",
   "metadata": {},
   "outputs": [],
   "source": [
    "# 비복원추출\n",
    "random.sample(population = range(5), k = 5)"
   ]
  },
  {
   "cell_type": "code",
   "execution_count": null,
   "id": "39e560b4",
   "metadata": {},
   "outputs": [],
   "source": [
    "# 복원추출\n",
    "random.choices(population = range(5), k = 10)"
   ]
  },
  {
   "cell_type": "code",
   "execution_count": null,
   "id": "476039de",
   "metadata": {},
   "outputs": [],
   "source": [
    "for score in scores:\n",
    "    if score >= 90:\n",
    "        print('합격')\n",
    "    elif score >= 80:\n",
    "        print('재검사')\n",
    "    else:\n",
    "        print('불합격')"
   ]
  },
  {
   "cell_type": "code",
   "execution_count": null,
   "id": "a1c003fb",
   "metadata": {},
   "outputs": [],
   "source": [
    "for item in menu:\n",
    "    print('팀장님,', item, '시킬까요?')\n",
    "    if item in ['짜장면', '짬뽕']:\n",
    "        continue\n",
    "    print('> 다음 메뉴는 뭔가요?\\n')"
   ]
  },
  {
   "cell_type": "code",
   "execution_count": null,
   "id": "cf856a2a",
   "metadata": {},
   "outputs": [],
   "source": [
    "# Big Mark\n",
    "num = 123456789\n",
    "f'{num:,}'"
   ]
  },
  {
   "cell_type": "code",
   "execution_count": null,
   "id": "bf637352",
   "metadata": {},
   "outputs": [],
   "source": [
    "for item in menu:\n",
    "    print('팀장님,', item, '시킬까요?')\n",
    "    if item in ['전가복', '샥스핀']:\n",
    "        break\n",
    "    print('> 다음 메뉴는 뭔가요?\\n')"
   ]
  },
  {
   "cell_type": "code",
   "execution_count": null,
   "id": "61485aa9",
   "metadata": {
    "scrolled": true
   },
   "outputs": [],
   "source": [
    "for i in range(2, 10):\n",
    "    print(f'*** {i}단 ***')\n",
    "    for j in range(1, 10):\n",
    "        print(f'{i} * {j} = {i*j}')\n",
    "    print()"
   ]
  },
  {
   "cell_type": "code",
   "execution_count": null,
   "id": "b9425885",
   "metadata": {},
   "outputs": [],
   "source": [
    "sqrs = []\n",
    "for i in range(1, 11):\n",
    "    sqrs.append(i ** 2)"
   ]
  },
  {
   "cell_type": "code",
   "execution_count": null,
   "id": "448635ca",
   "metadata": {},
   "outputs": [],
   "source": [
    "sqrs"
   ]
  },
  {
   "cell_type": "code",
   "execution_count": null,
   "id": "6498d3ad",
   "metadata": {},
   "outputs": [],
   "source": [
    "sqrs = []\n",
    "for i in range(1, 11):\n",
    "    if i % 2 == 0:\n",
    "        sqrs.append(i ** 2)"
   ]
  },
  {
   "cell_type": "code",
   "execution_count": null,
   "id": "b6bd185e",
   "metadata": {},
   "outputs": [],
   "source": [
    "sqrs"
   ]
  },
  {
   "cell_type": "code",
   "execution_count": null,
   "id": "452c1d27",
   "metadata": {
    "scrolled": true
   },
   "outputs": [],
   "source": [
    "[i ** 2 for i in range(1, 11)]"
   ]
  },
  {
   "cell_type": "code",
   "execution_count": null,
   "id": "dc8f15f3",
   "metadata": {},
   "outputs": [],
   "source": [
    "[i ** 2 for i in range(1, 11) if i % 2 == 0]"
   ]
  },
  {
   "cell_type": "code",
   "execution_count": null,
   "id": "c4282148",
   "metadata": {},
   "outputs": [],
   "source": [
    "[i ** 2 if i % 2 == 0 else i for i in range(1, 11)]"
   ]
  },
  {
   "cell_type": "code",
   "execution_count": null,
   "id": "b95028ca",
   "metadata": {},
   "outputs": [],
   "source": [
    "for i, j in zip(range(2, 10), range(1, 10)):\n",
    "    print(i, j)"
   ]
  },
  {
   "cell_type": "code",
   "execution_count": null,
   "id": "5893cdff",
   "metadata": {},
   "outputs": [],
   "source": [
    "for i, v in enumerate(range(1, 11)):\n",
    "    print(f'{i}번 인덱스 원소는 {v}입니다.')"
   ]
  },
  {
   "cell_type": "code",
   "execution_count": null,
   "id": "e6c2bb90",
   "metadata": {},
   "outputs": [],
   "source": [
    "for i, v in enumerate(menu):\n",
    "    print(f'{i}번 인덱스 메뉴는 {v}입니다.')"
   ]
  },
  {
   "cell_type": "code",
   "execution_count": null,
   "id": "f6022729",
   "metadata": {},
   "outputs": [],
   "source": [
    "for i in range(1, 11):\n",
    "    if i % 3 == 0:\n",
    "        i = str(i)\n",
    "    print(i ** 2)"
   ]
  },
  {
   "cell_type": "code",
   "execution_count": null,
   "id": "eca59270",
   "metadata": {},
   "outputs": [],
   "source": [
    "for i in range(1, 11):\n",
    "    if i % 3 == 0:\n",
    "        i = str(i)\n",
    "    try:\n",
    "        print(i ** 2)\n",
    "    except:\n",
    "        print('에러 발생!')"
   ]
  },
  {
   "cell_type": "code",
   "execution_count": null,
   "id": "094ad71b",
   "metadata": {},
   "outputs": [],
   "source": [
    "for i in range(1, 11):\n",
    "    if i % 3 == 0:\n",
    "        i = str(i)\n",
    "    try:\n",
    "        print(i ** 2)\n",
    "    except Exception as e:\n",
    "        print(e)"
   ]
  },
  {
   "cell_type": "code",
   "execution_count": null,
   "id": "76117fdf",
   "metadata": {},
   "outputs": [],
   "source": [
    "i = 5"
   ]
  },
  {
   "cell_type": "code",
   "execution_count": null,
   "id": "03a3b2cb",
   "metadata": {},
   "outputs": [],
   "source": [
    "while i > 0:\n",
    "    print(i)\n",
    "    i -= 1"
   ]
  },
  {
   "cell_type": "code",
   "execution_count": null,
   "id": "2bee835b",
   "metadata": {},
   "outputs": [],
   "source": [
    "i"
   ]
  },
  {
   "cell_type": "code",
   "execution_count": null,
   "id": "c83b8f96",
   "metadata": {},
   "outputs": [],
   "source": [
    "while True:\n",
    "    i += 1\n",
    "    if i >= 10000:\n",
    "        break"
   ]
  },
  {
   "cell_type": "code",
   "execution_count": null,
   "id": "54a98d4c",
   "metadata": {},
   "outputs": [],
   "source": [
    "i"
   ]
  },
  {
   "cell_type": "code",
   "execution_count": null,
   "id": "81a34c62",
   "metadata": {},
   "outputs": [],
   "source": [
    "def BMI(hgt, wgt):\n",
    "    bmi = wgt / (hgt/100)**2\n",
    "    return bmi"
   ]
  },
  {
   "cell_type": "code",
   "execution_count": null,
   "id": "df9041b2",
   "metadata": {},
   "outputs": [],
   "source": [
    "BMI(175, 65)"
   ]
  },
  {
   "cell_type": "code",
   "execution_count": null,
   "id": "880a4fc5",
   "metadata": {},
   "outputs": [],
   "source": [
    "BMI(65, 175)"
   ]
  },
  {
   "cell_type": "code",
   "execution_count": null,
   "id": "7b54c437",
   "metadata": {},
   "outputs": [],
   "source": [
    "BMI(hgt = 175, wgt = 65)"
   ]
  },
  {
   "cell_type": "code",
   "execution_count": null,
   "id": "6a915025",
   "metadata": {},
   "outputs": [],
   "source": [
    "BMI(wgt = 65, hgt = 175)"
   ]
  },
  {
   "cell_type": "code",
   "execution_count": null,
   "id": "2764f720",
   "metadata": {},
   "outputs": [],
   "source": [
    "def BMI(hgt = 175, wgt = 65):\n",
    "    '''\n",
    "    이 함수는 키(cm)와 체중(kg)을 입력받아서 신체질량지수를 반환합니다.\n",
    "    '''\n",
    "    if type(hgt) != int:\n",
    "        hgt = int(float(hgt))\n",
    "    bmi = wgt / (hgt/100)**2\n",
    "    return bmi"
   ]
  },
  {
   "cell_type": "code",
   "execution_count": null,
   "id": "04b1db32",
   "metadata": {},
   "outputs": [],
   "source": [
    "BMI()"
   ]
  },
  {
   "cell_type": "code",
   "execution_count": null,
   "id": "07d4f9c3",
   "metadata": {},
   "outputs": [],
   "source": [
    "BMI(hgt = '190.0', wgt = 95)"
   ]
  },
  {
   "cell_type": "code",
   "execution_count": null,
   "id": "30f7191c",
   "metadata": {},
   "outputs": [],
   "source": [
    "hgt = 190"
   ]
  },
  {
   "cell_type": "code",
   "execution_count": null,
   "id": "af105f4d",
   "metadata": {},
   "outputs": [],
   "source": [
    "type(hgt)"
   ]
  },
  {
   "cell_type": "code",
   "execution_count": null,
   "id": "f17b0116",
   "metadata": {},
   "outputs": [],
   "source": [
    "type(hgt) != int"
   ]
  },
  {
   "cell_type": "code",
   "execution_count": null,
   "id": "8cee5000",
   "metadata": {},
   "outputs": [],
   "source": [
    "import requests\n",
    "from bs4 import BeautifulSoup as bts"
   ]
  },
  {
   "cell_type": "code",
   "execution_count": null,
   "id": "87ef931a",
   "metadata": {},
   "outputs": [],
   "source": [
    "ticker = '005930'\n",
    "url = f'https://finance.naver.com/item/main.naver?code={ticker}'\n",
    "res = requests.get(url)\n",
    "soup = bts(markup = res.text, features = 'html.parser')\n",
    "items = soup.select('p.no_today > em > span')\n",
    "price = items[0].text\n",
    "price = int(price.replace(',', ''))\n",
    "price"
   ]
  },
  {
   "cell_type": "code",
   "execution_count": null,
   "id": "80435323",
   "metadata": {},
   "outputs": [],
   "source": [
    "# 종목코드 리스트로 생성\n",
    "tickers = ['005930', '000660', '373220']"
   ]
  },
  {
   "cell_type": "code",
   "execution_count": null,
   "id": "3f083433",
   "metadata": {},
   "outputs": [],
   "source": [
    "import requests\n",
    "from bs4 import BeautifulSoup as bts\n",
    "import time"
   ]
  },
  {
   "cell_type": "code",
   "execution_count": null,
   "id": "b1114d67",
   "metadata": {},
   "outputs": [],
   "source": [
    "for ticker in tickers:\n",
    "    url = f'https://finance.naver.com/item/main.naver?code={ticker}'\n",
    "    res = requests.get(url)\n",
    "    soup = bts(markup = res.text, features = 'html.parser')\n",
    "    items = soup.select('p.no_today > em > span')\n",
    "    price = items[0].text\n",
    "    price = int(price.replace(',', ''))\n",
    "    print(f'{ticker}의 현재 가격은 {price}입니다.')\n",
    "    time.sleep(1)"
   ]
  },
  {
   "cell_type": "code",
   "execution_count": null,
   "id": "2c846980",
   "metadata": {},
   "outputs": [],
   "source": [
    "def stockPrice(ticker):\n",
    "    url = f'https://finance.naver.com/item/main.naver?code={ticker}'\n",
    "    res = requests.get(url)\n",
    "    soup = bts(markup = res.text, features = 'html.parser')\n",
    "    items = soup.select('p.no_today > em > span')\n",
    "    price = items[0].text\n",
    "    price = int(price.replace(',', ''))\n",
    "    return f'{ticker}의 현재 가격은 {price:,}원입니다.'"
   ]
  },
  {
   "cell_type": "code",
   "execution_count": null,
   "id": "9a69d320",
   "metadata": {},
   "outputs": [],
   "source": [
    "for ticker in tickers:\n",
    "    print(stockPrice(ticker = ticker))\n",
    "    time.sleep(1)"
   ]
  },
  {
   "cell_type": "code",
   "execution_count": null,
   "id": "516d03b8",
   "metadata": {},
   "outputs": [],
   "source": [
    "def BMI(hgt, wgt):\n",
    "    bmi = wgt / (hgt/100)**2\n",
    "    return bmi"
   ]
  },
  {
   "cell_type": "code",
   "execution_count": null,
   "id": "7c56c032",
   "metadata": {},
   "outputs": [],
   "source": [
    "BMI2 = lambda hgt, wgt: wgt / (hgt/100)**2"
   ]
  },
  {
   "cell_type": "code",
   "execution_count": null,
   "id": "1f8a822c",
   "metadata": {},
   "outputs": [],
   "source": [
    "BMI2(175, 65)"
   ]
  },
  {
   "cell_type": "code",
   "execution_count": null,
   "id": "a0fd75a4",
   "metadata": {},
   "outputs": [],
   "source": [
    "(lambda hgt, wgt: wgt / (hgt/100)**2)(175, 65)"
   ]
  },
  {
   "cell_type": "code",
   "execution_count": null,
   "id": "77108e70",
   "metadata": {},
   "outputs": [],
   "source": [
    "def printValues1(a, b, c):\n",
    "    for i in (a, b, c):\n",
    "        print(i)"
   ]
  },
  {
   "cell_type": "code",
   "execution_count": null,
   "id": "1f288411",
   "metadata": {},
   "outputs": [],
   "source": [
    "printValues1(1, 2, 3)"
   ]
  },
  {
   "cell_type": "code",
   "execution_count": null,
   "id": "cd30e29b",
   "metadata": {},
   "outputs": [],
   "source": [
    "printValues1(1, 2)"
   ]
  },
  {
   "cell_type": "code",
   "execution_count": null,
   "id": "4b4e3b35",
   "metadata": {},
   "outputs": [],
   "source": [
    "def printValues2(*args):\n",
    "    for i in args:\n",
    "        print(i)"
   ]
  },
  {
   "cell_type": "code",
   "execution_count": null,
   "id": "aab1da82",
   "metadata": {},
   "outputs": [],
   "source": [
    "printValues2(1, 2, 3)"
   ]
  },
  {
   "cell_type": "code",
   "execution_count": null,
   "id": "829acac6",
   "metadata": {},
   "outputs": [],
   "source": [
    "printValues2(1, 2)"
   ]
  },
  {
   "cell_type": "code",
   "execution_count": null,
   "id": "4d3687b5",
   "metadata": {},
   "outputs": [],
   "source": [
    "printValues2(a = 1, b = 2, c = 3)"
   ]
  },
  {
   "cell_type": "code",
   "execution_count": null,
   "id": "59244c90",
   "metadata": {},
   "outputs": [],
   "source": [
    "def printValues3(**kwargs):\n",
    "    for k, v in kwargs.items():\n",
    "        print(f'{k}은/는 {v}입니다.')"
   ]
  },
  {
   "cell_type": "code",
   "execution_count": null,
   "id": "47a9979d",
   "metadata": {},
   "outputs": [],
   "source": [
    "printValues3(메뉴 = '순대국', 가격 = 9000)"
   ]
  },
  {
   "cell_type": "code",
   "execution_count": null,
   "id": "270e0c6b",
   "metadata": {},
   "outputs": [],
   "source": []
  },
  {
   "cell_type": "code",
   "execution_count": null,
   "id": "60e5e57a",
   "metadata": {},
   "outputs": [],
   "source": [
    "%whos"
   ]
  },
  {
   "cell_type": "code",
   "execution_count": null,
   "id": "597eb0be",
   "metadata": {},
   "outputs": [],
   "source": [
    "import myFuncs"
   ]
  },
  {
   "cell_type": "code",
   "execution_count": null,
   "id": "851e4a01",
   "metadata": {},
   "outputs": [],
   "source": [
    "%whos"
   ]
  },
  {
   "cell_type": "code",
   "execution_count": null,
   "id": "38590f1b",
   "metadata": {},
   "outputs": [],
   "source": [
    "dir(myFuncs)"
   ]
  },
  {
   "cell_type": "code",
   "execution_count": null,
   "id": "733d76f8",
   "metadata": {},
   "outputs": [],
   "source": [
    "myFuncs.stockPrice(ticker = '005930')"
   ]
  },
  {
   "cell_type": "code",
   "execution_count": null,
   "id": "a302f4ed",
   "metadata": {},
   "outputs": [],
   "source": [
    "import myFuncs as mf"
   ]
  },
  {
   "cell_type": "code",
   "execution_count": null,
   "id": "16403ac5",
   "metadata": {},
   "outputs": [],
   "source": [
    "%whos"
   ]
  },
  {
   "cell_type": "code",
   "execution_count": null,
   "id": "0843b51e",
   "metadata": {},
   "outputs": [],
   "source": [
    "mf.stockPrice(ticker = '005930')"
   ]
  },
  {
   "cell_type": "code",
   "execution_count": null,
   "id": "2c47bb71",
   "metadata": {},
   "outputs": [],
   "source": [
    "dir(mf)"
   ]
  },
  {
   "cell_type": "code",
   "execution_count": 1,
   "id": "3e6a9bbb",
   "metadata": {},
   "outputs": [],
   "source": [
    "from myFuncs import stockPrice"
   ]
  },
  {
   "cell_type": "code",
   "execution_count": 2,
   "id": "59e9b1eb",
   "metadata": {},
   "outputs": [
    {
     "name": "stdout",
     "output_type": "stream",
     "text": [
      "Variable     Type        Data/Info\n",
      "----------------------------------\n",
      "stockPrice   function    <function stockPrice at 0x000002951E385AB0>\n"
     ]
    }
   ],
   "source": [
    "%whos"
   ]
  },
  {
   "cell_type": "code",
   "execution_count": 3,
   "id": "0ff58231",
   "metadata": {},
   "outputs": [
    {
     "data": {
      "text/plain": [
       "'005930의 현재 가격은 56,400원입니다.'"
      ]
     },
     "execution_count": 3,
     "metadata": {},
     "output_type": "execute_result"
    }
   ],
   "source": [
    "stockPrice(ticker = '005930')"
   ]
  },
  {
   "cell_type": "code",
   "execution_count": null,
   "id": "bac0cee6",
   "metadata": {},
   "outputs": [],
   "source": []
  },
  {
   "cell_type": "code",
   "execution_count": 5,
   "id": "7719d900",
   "metadata": {},
   "outputs": [],
   "source": [
    "import requests\n",
    "from bs4 import BeautifulSoup as bts"
   ]
  },
  {
   "cell_type": "code",
   "execution_count": 6,
   "id": "7a3e9a80",
   "metadata": {},
   "outputs": [],
   "source": [
    "url = 'https://finance.naver.com/sise/sise_market_sum.naver'"
   ]
  },
  {
   "cell_type": "code",
   "execution_count": 7,
   "id": "76f36233",
   "metadata": {},
   "outputs": [],
   "source": [
    "res = requests.get(url)"
   ]
  },
  {
   "cell_type": "code",
   "execution_count": 8,
   "id": "e656cbd9",
   "metadata": {},
   "outputs": [],
   "source": [
    "soup = bts(markup = res.text, features = 'html.parser')"
   ]
  },
  {
   "cell_type": "code",
   "execution_count": 9,
   "id": "6745169f",
   "metadata": {
    "collapsed": true
   },
   "outputs": [
    {
     "data": {
      "text/plain": [
       "[<a class=\"tltle\" href=\"/item/main.naver?code=005930\">삼성전자</a>,\n",
       " <a class=\"tltle\" href=\"/item/main.naver?code=373220\">LG에너지솔루션</a>,\n",
       " <a class=\"tltle\" href=\"/item/main.naver?code=000660\">SK하이닉스</a>,\n",
       " <a class=\"tltle\" href=\"/item/main.naver?code=207940\">삼성바이오로직스</a>,\n",
       " <a class=\"tltle\" href=\"/item/main.naver?code=005935\">삼성전자우</a>,\n",
       " <a class=\"tltle\" href=\"/item/main.naver?code=006400\">삼성SDI</a>,\n",
       " <a class=\"tltle\" href=\"/item/main.naver?code=051910\">LG화학</a>,\n",
       " <a class=\"tltle\" href=\"/item/main.naver?code=005380\">현대차</a>,\n",
       " <a class=\"tltle\" href=\"/item/main.naver?code=000270\">기아</a>,\n",
       " <a class=\"tltle\" href=\"/item/main.naver?code=035420\">NAVER</a>,\n",
       " <a class=\"tltle\" href=\"/item/main.naver?code=068270\">셀트리온</a>,\n",
       " <a class=\"tltle\" href=\"/item/main.naver?code=035720\">카카오</a>,\n",
       " <a class=\"tltle\" href=\"/item/main.naver?code=028260\">삼성물산</a>,\n",
       " <a class=\"tltle\" href=\"/item/main.naver?code=005490\">POSCO홀딩스</a>,\n",
       " <a class=\"tltle\" href=\"/item/main.naver?code=105560\">KB금융</a>,\n",
       " <a class=\"tltle\" href=\"/item/main.naver?code=012330\">현대모비스</a>,\n",
       " <a class=\"tltle\" href=\"/item/main.naver?code=055550\">신한지주</a>,\n",
       " <a class=\"tltle\" href=\"/item/main.naver?code=034730\">SK</a>,\n",
       " <a class=\"tltle\" href=\"/item/main.naver?code=096770\">SK이노베이션</a>,\n",
       " <a class=\"tltle\" href=\"/item/main.naver?code=066570\">LG전자</a>,\n",
       " <a class=\"tltle\" href=\"/item/main.naver?code=032830\">삼성생명</a>,\n",
       " <a class=\"tltle\" href=\"/item/main.naver?code=003670\">포스코케미칼</a>,\n",
       " <a class=\"tltle\" href=\"/item/main.naver?code=010130\">고려아연</a>,\n",
       " <a class=\"tltle\" href=\"/item/main.naver?code=003550\">LG</a>,\n",
       " <a class=\"tltle\" href=\"/item/main.naver?code=033780\">KT&amp;G</a>,\n",
       " <a class=\"tltle\" href=\"/item/main.naver?code=086790\">하나금융지주</a>,\n",
       " <a class=\"tltle\" href=\"/item/main.naver?code=015760\">한국전력</a>,\n",
       " <a class=\"tltle\" href=\"/item/main.naver?code=017670\">SK텔레콤</a>,\n",
       " <a class=\"tltle\" href=\"/item/main.naver?code=329180\">현대중공업</a>,\n",
       " <a class=\"tltle\" href=\"/item/main.naver?code=010950\">S-Oil</a>,\n",
       " <a class=\"tltle\" href=\"/item/main.naver?code=011200\">HMM</a>,\n",
       " <a class=\"tltle\" href=\"/item/main.naver?code=000810\">삼성화재</a>,\n",
       " <a class=\"tltle\" href=\"/item/main.naver?code=051900\">LG생활건강</a>,\n",
       " <a class=\"tltle\" href=\"/item/main.naver?code=030200\">KT</a>,\n",
       " <a class=\"tltle\" href=\"/item/main.naver?code=259960\">크래프톤</a>,\n",
       " <a class=\"tltle\" href=\"/item/main.naver?code=009830\">한화솔루션</a>,\n",
       " <a class=\"tltle\" href=\"/item/main.naver?code=018260\">삼성에스디에스</a>,\n",
       " <a class=\"tltle\" href=\"/item/main.naver?code=009150\">삼성전기</a>,\n",
       " <a class=\"tltle\" href=\"/item/main.naver?code=316140\">우리금융지주</a>,\n",
       " <a class=\"tltle\" href=\"/item/main.naver?code=034020\">두산에너빌리티</a>,\n",
       " <a class=\"tltle\" href=\"/item/main.naver?code=323410\">카카오뱅크</a>,\n",
       " <a class=\"tltle\" href=\"/item/main.naver?code=003490\">대한항공</a>,\n",
       " <a class=\"tltle\" href=\"/item/main.naver?code=024110\">기업은행</a>,\n",
       " <a class=\"tltle\" href=\"/item/main.naver?code=036570\">엔씨소프트</a>,\n",
       " <a class=\"tltle\" href=\"/item/main.naver?code=011070\">LG이노텍</a>,\n",
       " <a class=\"tltle\" href=\"/item/main.naver?code=086280\">현대글로비스</a>,\n",
       " <a class=\"tltle\" href=\"/item/main.naver?code=097950\">CJ제일제당</a>,\n",
       " <a class=\"tltle\" href=\"/item/main.naver?code=090430\">아모레퍼시픽</a>,\n",
       " <a class=\"tltle\" href=\"/item/main.naver?code=011170\">롯데케미칼</a>,\n",
       " <a class=\"tltle\" href=\"/item/main.naver?code=302440\">SK바이오사이언스</a>]"
      ]
     },
     "execution_count": 9,
     "metadata": {},
     "output_type": "execute_result"
    }
   ],
   "source": [
    "items = soup.select('a.tltle')"
   ]
  },
  {
   "cell_type": "code",
   "execution_count": 12,
   "id": "24e3d524",
   "metadata": {},
   "outputs": [
    {
     "data": {
      "text/plain": [
       "'삼성전자'"
      ]
     },
     "execution_count": 12,
     "metadata": {},
     "output_type": "execute_result"
    }
   ],
   "source": [
    "items[0].text"
   ]
  },
  {
   "cell_type": "code",
   "execution_count": 14,
   "id": "a945589d",
   "metadata": {},
   "outputs": [
    {
     "data": {
      "text/plain": [
       "'/item/main.naver?code=005930'"
      ]
     },
     "execution_count": 14,
     "metadata": {},
     "output_type": "execute_result"
    }
   ],
   "source": [
    "items[0]['href']"
   ]
  },
  {
   "cell_type": "code",
   "execution_count": 15,
   "id": "7e8fc3e4",
   "metadata": {},
   "outputs": [
    {
     "data": {
      "text/plain": [
       "'005930'"
      ]
     },
     "execution_count": 15,
     "metadata": {},
     "output_type": "execute_result"
    }
   ],
   "source": [
    "items[0]['href'].replace('/item/main.naver?code=', '')"
   ]
  },
  {
   "cell_type": "code",
   "execution_count": 17,
   "id": "57d84845",
   "metadata": {
    "scrolled": true
   },
   "outputs": [],
   "source": [
    "tickers = [item['href'].replace('/item/main.naver?code=', '') for item in items]"
   ]
  },
  {
   "cell_type": "code",
   "execution_count": 18,
   "id": "401cca29",
   "metadata": {},
   "outputs": [
    {
     "name": "stdout",
     "output_type": "stream",
     "text": [
      "005930의 현재 가격은 56,300원입니다.\n",
      "373220의 현재 가격은 486,500원입니다.\n",
      "000660의 현재 가격은 95,400원입니다.\n",
      "207940의 현재 가격은 808,000원입니다.\n",
      "005935의 현재 가격은 51,100원입니다.\n",
      "006400의 현재 가격은 601,000원입니다.\n",
      "051910의 현재 가격은 581,000원입니다.\n",
      "005380의 현재 가격은 167,500원입니다.\n",
      "000270의 현재 가격은 69,600원입니다.\n",
      "035420의 현재 가격은 167,000원입니다.\n",
      "068270의 현재 가격은 174,000원입니다.\n",
      "035720의 현재 가격은 51,100원입니다.\n",
      "028260의 현재 가격은 111,000원입니다.\n",
      "005490의 현재 가격은 245,000원입니다.\n",
      "105560의 현재 가격은 46,500원입니다.\n",
      "012330의 현재 가격은 197,000원입니다.\n",
      "055550의 현재 가격은 35,800원입니다.\n",
      "034730의 현재 가격은 208,500원입니다.\n",
      "096770의 현재 가격은 157,500원입니다.\n",
      "066570의 현재 가격은 80,900원입니다.\n",
      "032830의 현재 가격은 65,500원입니다.\n",
      "003670의 현재 가격은 162,000원입니다.\n",
      "010130의 현재 가격은 618,000원입니다.\n",
      "003550의 현재 가격은 77,400원입니다.\n",
      "033780의 현재 가격은 87,200원입니다.\n",
      "086790의 현재 가격은 38,250원입니다.\n",
      "015760의 현재 가격은 17,350원입니다.\n",
      "017670의 현재 가격은 49,850원입니다.\n",
      "329180의 현재 가격은 117,500원입니다.\n",
      "010950의 현재 가격은 85,500원입니다.\n",
      "011200의 현재 가격은 18,850원입니다.\n",
      "000810의 현재 가격은 192,500원입니다.\n",
      "051900의 현재 가격은 581,000원입니다.\n",
      "030200의 현재 가격은 34,500원입니다.\n",
      "259960의 현재 가격은 184,000원입니다.\n",
      "009830의 현재 가격은 46,950원입니다.\n",
      "018260의 현재 가격은 115,500원입니다.\n",
      "009150의 현재 가격은 118,000원입니다.\n",
      "316140의 현재 가격은 11,650원입니다.\n",
      "034020의 현재 가격은 13,150원입니다.\n",
      "323410의 현재 가격은 17,650원입니다.\n",
      "003490의 현재 가격은 21,100원입니다.\n",
      "024110의 현재 가격은 10,200원입니다.\n",
      "036570의 현재 가격은 335,500원입니다.\n",
      "011070의 현재 가격은 289,500원입니다.\n",
      "086280의 현재 가격은 171,000원입니다.\n",
      "097950의 현재 가격은 398,000원입니다.\n",
      "090430의 현재 가격은 99,900원입니다.\n",
      "011170의 현재 가격은 164,000원입니다.\n",
      "302440의 현재 가격은 72,900원입니다.\n"
     ]
    }
   ],
   "source": [
    "import time\n",
    "\n",
    "for ticker in tickers:\n",
    "    print(stockPrice(ticker = ticker))\n",
    "    time.sleep(1)"
   ]
  },
  {
   "cell_type": "code",
   "execution_count": null,
   "id": "5aec8c0e",
   "metadata": {},
   "outputs": [],
   "source": []
  }
 ],
 "metadata": {
  "kernelspec": {
   "display_name": "Python 3 (ipykernel)",
   "language": "python",
   "name": "python3"
  },
  "language_info": {
   "codemirror_mode": {
    "name": "ipython",
    "version": 3
   },
   "file_extension": ".py",
   "mimetype": "text/x-python",
   "name": "python",
   "nbconvert_exporter": "python",
   "pygments_lexer": "ipython3",
   "version": "3.10.8"
  }
 },
 "nbformat": 4,
 "nbformat_minor": 5
}
