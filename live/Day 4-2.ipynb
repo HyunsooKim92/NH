{
 "cells": [
  {
   "cell_type": "code",
   "execution_count": 1,
   "id": "c1dd17f1",
   "metadata": {},
   "outputs": [],
   "source": [
    "import os\n",
    "import chardet\n",
    "import numpy as np\n",
    "import pandas as pd\n",
    "import joblib"
   ]
  },
  {
   "cell_type": "code",
   "execution_count": 2,
   "id": "5efe7706",
   "metadata": {},
   "outputs": [
    {
     "data": {
      "text/plain": [
       "'C:\\\\Users\\\\15U40N\\\\Documents\\\\NH-main\\\\live'"
      ]
     },
     "execution_count": 2,
     "metadata": {},
     "output_type": "execute_result"
    }
   ],
   "source": [
    "os.getcwd()"
   ]
  },
  {
   "cell_type": "code",
   "execution_count": 3,
   "id": "b7add222",
   "metadata": {},
   "outputs": [],
   "source": [
    "os.chdir('../data')"
   ]
  },
  {
   "cell_type": "code",
   "execution_count": 4,
   "id": "4850eeaf",
   "metadata": {},
   "outputs": [
    {
     "data": {
      "text/plain": [
       "['APT_List_Seoul_2021.z']"
      ]
     },
     "execution_count": 4,
     "metadata": {},
     "output_type": "execute_result"
    }
   ],
   "source": [
    "[file for file in os.listdir() if '.z' in file]"
   ]
  },
  {
   "cell_type": "code",
   "execution_count": 5,
   "id": "bce8e183",
   "metadata": {},
   "outputs": [],
   "source": [
    "apt = joblib.load('APT_List_Seoul_2021.z')"
   ]
  },
  {
   "cell_type": "code",
   "execution_count": 6,
   "id": "9446a680",
   "metadata": {},
   "outputs": [
    {
     "name": "stdout",
     "output_type": "stream",
     "text": [
      "<class 'pandas.core.frame.DataFrame'>\n",
      "Int64Index: 41264 entries, 0 to 41263\n",
      "Data columns (total 23 columns):\n",
      " #   Column  Non-Null Count  Dtype         \n",
      "---  ------  --------------  -----         \n",
      " 0   아파트     41264 non-null  object        \n",
      " 1   시도      41264 non-null  object        \n",
      " 2   자치구     41264 non-null  object        \n",
      " 3   읍면동     41264 non-null  object        \n",
      " 4   지번      41264 non-null  object        \n",
      " 5   거래일     41264 non-null  datetime64[ns]\n",
      " 6   전용면적    41264 non-null  float64       \n",
      " 7   층       41264 non-null  int32         \n",
      " 8   거래금액    41264 non-null  float64       \n",
      " 9   평당금액    41264 non-null  float64       \n",
      " 10  금액구분    41264 non-null  object        \n",
      " 11  주소      41264 non-null  object        \n",
      " 12  아파트ID   41264 non-null  int64         \n",
      " 13  아파트명    41264 non-null  object        \n",
      " 14  위도      41264 non-null  float64       \n",
      " 15  경도      41264 non-null  float64       \n",
      " 16  세대수     41264 non-null  int64         \n",
      " 17  임대수     41264 non-null  int64         \n",
      " 18  동수      41264 non-null  int64         \n",
      " 19  주차대수    41264 non-null  int64         \n",
      " 20  용적률     41264 non-null  int64         \n",
      " 21  건폐율     41264 non-null  int64         \n",
      " 22  건설사     40381 non-null  object        \n",
      "dtypes: datetime64[ns](1), float64(5), int32(1), int64(7), object(9)\n",
      "memory usage: 7.4+ MB\n"
     ]
    }
   ],
   "source": [
    "apt.info()"
   ]
  },
  {
   "cell_type": "code",
   "execution_count": 7,
   "id": "0a215a02",
   "metadata": {},
   "outputs": [
    {
     "data": {
      "text/html": [
       "<div>\n",
       "<style scoped>\n",
       "    .dataframe tbody tr th:only-of-type {\n",
       "        vertical-align: middle;\n",
       "    }\n",
       "\n",
       "    .dataframe tbody tr th {\n",
       "        vertical-align: top;\n",
       "    }\n",
       "\n",
       "    .dataframe thead th {\n",
       "        text-align: right;\n",
       "    }\n",
       "</style>\n",
       "<table border=\"1\" class=\"dataframe\">\n",
       "  <thead>\n",
       "    <tr style=\"text-align: right;\">\n",
       "      <th></th>\n",
       "      <th>아파트</th>\n",
       "      <th>시도</th>\n",
       "      <th>자치구</th>\n",
       "      <th>읍면동</th>\n",
       "      <th>지번</th>\n",
       "      <th>거래일</th>\n",
       "      <th>전용면적</th>\n",
       "      <th>층</th>\n",
       "      <th>거래금액</th>\n",
       "      <th>평당금액</th>\n",
       "      <th>...</th>\n",
       "      <th>아파트명</th>\n",
       "      <th>위도</th>\n",
       "      <th>경도</th>\n",
       "      <th>세대수</th>\n",
       "      <th>임대수</th>\n",
       "      <th>동수</th>\n",
       "      <th>주차대수</th>\n",
       "      <th>용적률</th>\n",
       "      <th>건폐율</th>\n",
       "      <th>건설사</th>\n",
       "    </tr>\n",
       "  </thead>\n",
       "  <tbody>\n",
       "    <tr>\n",
       "      <th>0</th>\n",
       "      <td>동아그린</td>\n",
       "      <td>서울특별시</td>\n",
       "      <td>용산구</td>\n",
       "      <td>이촌동</td>\n",
       "      <td>411</td>\n",
       "      <td>2021-01-01</td>\n",
       "      <td>43.02</td>\n",
       "      <td>11</td>\n",
       "      <td>8.75</td>\n",
       "      <td>6711.994421</td>\n",
       "      <td>...</td>\n",
       "      <td>그린</td>\n",
       "      <td>37.524037</td>\n",
       "      <td>126.95801</td>\n",
       "      <td>499</td>\n",
       "      <td>0</td>\n",
       "      <td>6</td>\n",
       "      <td>539</td>\n",
       "      <td>384</td>\n",
       "      <td>23</td>\n",
       "      <td>동아건설(주)</td>\n",
       "    </tr>\n",
       "    <tr>\n",
       "      <th>1</th>\n",
       "      <td>동아그린</td>\n",
       "      <td>서울특별시</td>\n",
       "      <td>용산구</td>\n",
       "      <td>이촌동</td>\n",
       "      <td>411</td>\n",
       "      <td>2021-01-05</td>\n",
       "      <td>59.58</td>\n",
       "      <td>15</td>\n",
       "      <td>11.80</td>\n",
       "      <td>6535.750252</td>\n",
       "      <td>...</td>\n",
       "      <td>그린</td>\n",
       "      <td>37.524037</td>\n",
       "      <td>126.95801</td>\n",
       "      <td>499</td>\n",
       "      <td>0</td>\n",
       "      <td>6</td>\n",
       "      <td>539</td>\n",
       "      <td>384</td>\n",
       "      <td>23</td>\n",
       "      <td>동아건설(주)</td>\n",
       "    </tr>\n",
       "    <tr>\n",
       "      <th>2</th>\n",
       "      <td>동아그린</td>\n",
       "      <td>서울특별시</td>\n",
       "      <td>용산구</td>\n",
       "      <td>이촌동</td>\n",
       "      <td>411</td>\n",
       "      <td>2021-01-19</td>\n",
       "      <td>84.82</td>\n",
       "      <td>18</td>\n",
       "      <td>13.00</td>\n",
       "      <td>5057.769394</td>\n",
       "      <td>...</td>\n",
       "      <td>그린</td>\n",
       "      <td>37.524037</td>\n",
       "      <td>126.95801</td>\n",
       "      <td>499</td>\n",
       "      <td>0</td>\n",
       "      <td>6</td>\n",
       "      <td>539</td>\n",
       "      <td>384</td>\n",
       "      <td>23</td>\n",
       "      <td>동아건설(주)</td>\n",
       "    </tr>\n",
       "    <tr>\n",
       "      <th>3</th>\n",
       "      <td>동아그린</td>\n",
       "      <td>서울특별시</td>\n",
       "      <td>용산구</td>\n",
       "      <td>이촌동</td>\n",
       "      <td>411</td>\n",
       "      <td>2021-01-19</td>\n",
       "      <td>114.96</td>\n",
       "      <td>19</td>\n",
       "      <td>14.95</td>\n",
       "      <td>4291.492693</td>\n",
       "      <td>...</td>\n",
       "      <td>그린</td>\n",
       "      <td>37.524037</td>\n",
       "      <td>126.95801</td>\n",
       "      <td>499</td>\n",
       "      <td>0</td>\n",
       "      <td>6</td>\n",
       "      <td>539</td>\n",
       "      <td>384</td>\n",
       "      <td>23</td>\n",
       "      <td>동아건설(주)</td>\n",
       "    </tr>\n",
       "    <tr>\n",
       "      <th>4</th>\n",
       "      <td>동아그린</td>\n",
       "      <td>서울특별시</td>\n",
       "      <td>용산구</td>\n",
       "      <td>이촌동</td>\n",
       "      <td>411</td>\n",
       "      <td>2021-01-23</td>\n",
       "      <td>43.02</td>\n",
       "      <td>3</td>\n",
       "      <td>8.15</td>\n",
       "      <td>6251.743375</td>\n",
       "      <td>...</td>\n",
       "      <td>그린</td>\n",
       "      <td>37.524037</td>\n",
       "      <td>126.95801</td>\n",
       "      <td>499</td>\n",
       "      <td>0</td>\n",
       "      <td>6</td>\n",
       "      <td>539</td>\n",
       "      <td>384</td>\n",
       "      <td>23</td>\n",
       "      <td>동아건설(주)</td>\n",
       "    </tr>\n",
       "  </tbody>\n",
       "</table>\n",
       "<p>5 rows × 23 columns</p>\n",
       "</div>"
      ],
      "text/plain": [
       "    아파트     시도  자치구  읍면동   지번        거래일    전용면적   층   거래금액         평당금액  ...  \\\n",
       "0  동아그린  서울특별시  용산구  이촌동  411 2021-01-01   43.02  11   8.75  6711.994421  ...   \n",
       "1  동아그린  서울특별시  용산구  이촌동  411 2021-01-05   59.58  15  11.80  6535.750252  ...   \n",
       "2  동아그린  서울특별시  용산구  이촌동  411 2021-01-19   84.82  18  13.00  5057.769394  ...   \n",
       "3  동아그린  서울특별시  용산구  이촌동  411 2021-01-19  114.96  19  14.95  4291.492693  ...   \n",
       "4  동아그린  서울특별시  용산구  이촌동  411 2021-01-23   43.02   3   8.15  6251.743375  ...   \n",
       "\n",
       "  아파트명         위도         경도  세대수  임대수  동수  주차대수  용적률  건폐율      건설사  \n",
       "0   그린  37.524037  126.95801  499    0   6   539  384   23  동아건설(주)  \n",
       "1   그린  37.524037  126.95801  499    0   6   539  384   23  동아건설(주)  \n",
       "2   그린  37.524037  126.95801  499    0   6   539  384   23  동아건설(주)  \n",
       "3   그린  37.524037  126.95801  499    0   6   539  384   23  동아건설(주)  \n",
       "4   그린  37.524037  126.95801  499    0   6   539  384   23  동아건설(주)  \n",
       "\n",
       "[5 rows x 23 columns]"
      ]
     },
     "execution_count": 7,
     "metadata": {},
     "output_type": "execute_result"
    }
   ],
   "source": [
    "apt.head()"
   ]
  },
  {
   "cell_type": "code",
   "execution_count": 8,
   "id": "2727b8bb",
   "metadata": {},
   "outputs": [
    {
     "data": {
      "text/plain": [
       "Index(['아파트', '시도', '자치구', '읍면동', '지번', '거래일', '전용면적', '층', '거래금액', '평당금액',\n",
       "       '금액구분', '주소', '아파트ID', '아파트명', '위도', '경도', '세대수', '임대수', '동수', '주차대수',\n",
       "       '용적률', '건폐율', '건설사'],\n",
       "      dtype='object')"
      ]
     },
     "execution_count": 8,
     "metadata": {},
     "output_type": "execute_result"
    }
   ],
   "source": [
    "apt.columns"
   ]
  },
  {
   "cell_type": "code",
   "execution_count": 9,
   "id": "9ade3ea0",
   "metadata": {},
   "outputs": [],
   "source": [
    "apt = apt.drop(columns = ['주소', '아파트ID', '아파트명'])"
   ]
  },
  {
   "cell_type": "code",
   "execution_count": 10,
   "id": "37c2f811",
   "metadata": {},
   "outputs": [],
   "source": [
    "apt['거래월'] = apt['거래일'].dt.strftime('%m월')"
   ]
  },
  {
   "cell_type": "code",
   "execution_count": 11,
   "id": "2d8a3e51",
   "metadata": {},
   "outputs": [],
   "source": [
    "apt = apt.sort_values(by = ['거래월'])"
   ]
  },
  {
   "cell_type": "code",
   "execution_count": 12,
   "id": "88dec813",
   "metadata": {},
   "outputs": [
    {
     "data": {
      "text/html": [
       "<div>\n",
       "<style scoped>\n",
       "    .dataframe tbody tr th:only-of-type {\n",
       "        vertical-align: middle;\n",
       "    }\n",
       "\n",
       "    .dataframe tbody tr th {\n",
       "        vertical-align: top;\n",
       "    }\n",
       "\n",
       "    .dataframe thead th {\n",
       "        text-align: right;\n",
       "    }\n",
       "</style>\n",
       "<table border=\"1\" class=\"dataframe\">\n",
       "  <thead>\n",
       "    <tr style=\"text-align: right;\">\n",
       "      <th></th>\n",
       "      <th>아파트</th>\n",
       "      <th>시도</th>\n",
       "      <th>자치구</th>\n",
       "      <th>읍면동</th>\n",
       "      <th>지번</th>\n",
       "      <th>거래일</th>\n",
       "      <th>전용면적</th>\n",
       "      <th>층</th>\n",
       "      <th>거래금액</th>\n",
       "      <th>평당금액</th>\n",
       "      <th>...</th>\n",
       "      <th>위도</th>\n",
       "      <th>경도</th>\n",
       "      <th>세대수</th>\n",
       "      <th>임대수</th>\n",
       "      <th>동수</th>\n",
       "      <th>주차대수</th>\n",
       "      <th>용적률</th>\n",
       "      <th>건폐율</th>\n",
       "      <th>건설사</th>\n",
       "      <th>거래월</th>\n",
       "    </tr>\n",
       "  </thead>\n",
       "  <tbody>\n",
       "    <tr>\n",
       "      <th>0</th>\n",
       "      <td>동아그린</td>\n",
       "      <td>서울특별시</td>\n",
       "      <td>용산구</td>\n",
       "      <td>이촌동</td>\n",
       "      <td>411</td>\n",
       "      <td>2021-01-01</td>\n",
       "      <td>43.02</td>\n",
       "      <td>11</td>\n",
       "      <td>8.75</td>\n",
       "      <td>6711.994421</td>\n",
       "      <td>...</td>\n",
       "      <td>37.524037</td>\n",
       "      <td>126.958010</td>\n",
       "      <td>499</td>\n",
       "      <td>0</td>\n",
       "      <td>6</td>\n",
       "      <td>539</td>\n",
       "      <td>384</td>\n",
       "      <td>23</td>\n",
       "      <td>동아건설(주)</td>\n",
       "      <td>01월</td>\n",
       "    </tr>\n",
       "    <tr>\n",
       "      <th>22813</th>\n",
       "      <td>마곡수명산파크1단지</td>\n",
       "      <td>서울특별시</td>\n",
       "      <td>강서구</td>\n",
       "      <td>내발산동</td>\n",
       "      <td>742</td>\n",
       "      <td>2021-01-15</td>\n",
       "      <td>84.53</td>\n",
       "      <td>2</td>\n",
       "      <td>9.18</td>\n",
       "      <td>3583.816397</td>\n",
       "      <td>...</td>\n",
       "      <td>37.554424</td>\n",
       "      <td>126.830513</td>\n",
       "      <td>1421</td>\n",
       "      <td>841</td>\n",
       "      <td>16</td>\n",
       "      <td>1581</td>\n",
       "      <td>225</td>\n",
       "      <td>19</td>\n",
       "      <td>(주)케이씨씨건설</td>\n",
       "      <td>01월</td>\n",
       "    </tr>\n",
       "    <tr>\n",
       "      <th>22814</th>\n",
       "      <td>마곡수명산파크1단지</td>\n",
       "      <td>서울특별시</td>\n",
       "      <td>강서구</td>\n",
       "      <td>내발산동</td>\n",
       "      <td>742</td>\n",
       "      <td>2021-01-16</td>\n",
       "      <td>84.53</td>\n",
       "      <td>2</td>\n",
       "      <td>6.50</td>\n",
       "      <td>2537.560629</td>\n",
       "      <td>...</td>\n",
       "      <td>37.554424</td>\n",
       "      <td>126.830513</td>\n",
       "      <td>1421</td>\n",
       "      <td>841</td>\n",
       "      <td>16</td>\n",
       "      <td>1581</td>\n",
       "      <td>225</td>\n",
       "      <td>19</td>\n",
       "      <td>(주)케이씨씨건설</td>\n",
       "      <td>01월</td>\n",
       "    </tr>\n",
       "    <tr>\n",
       "      <th>22815</th>\n",
       "      <td>마곡수명산파크1단지</td>\n",
       "      <td>서울특별시</td>\n",
       "      <td>강서구</td>\n",
       "      <td>내발산동</td>\n",
       "      <td>742</td>\n",
       "      <td>2021-01-25</td>\n",
       "      <td>84.82</td>\n",
       "      <td>7</td>\n",
       "      <td>9.69</td>\n",
       "      <td>3769.983494</td>\n",
       "      <td>...</td>\n",
       "      <td>37.554424</td>\n",
       "      <td>126.830513</td>\n",
       "      <td>1421</td>\n",
       "      <td>841</td>\n",
       "      <td>16</td>\n",
       "      <td>1581</td>\n",
       "      <td>225</td>\n",
       "      <td>19</td>\n",
       "      <td>(주)케이씨씨건설</td>\n",
       "      <td>01월</td>\n",
       "    </tr>\n",
       "    <tr>\n",
       "      <th>22816</th>\n",
       "      <td>마곡수명산파크1단지</td>\n",
       "      <td>서울특별시</td>\n",
       "      <td>강서구</td>\n",
       "      <td>내발산동</td>\n",
       "      <td>742</td>\n",
       "      <td>2021-01-30</td>\n",
       "      <td>84.53</td>\n",
       "      <td>8</td>\n",
       "      <td>9.80</td>\n",
       "      <td>3825.860641</td>\n",
       "      <td>...</td>\n",
       "      <td>37.554424</td>\n",
       "      <td>126.830513</td>\n",
       "      <td>1421</td>\n",
       "      <td>841</td>\n",
       "      <td>16</td>\n",
       "      <td>1581</td>\n",
       "      <td>225</td>\n",
       "      <td>19</td>\n",
       "      <td>(주)케이씨씨건설</td>\n",
       "      <td>01월</td>\n",
       "    </tr>\n",
       "  </tbody>\n",
       "</table>\n",
       "<p>5 rows × 21 columns</p>\n",
       "</div>"
      ],
      "text/plain": [
       "              아파트     시도  자치구   읍면동   지번        거래일   전용면적   층  거래금액  \\\n",
       "0            동아그린  서울특별시  용산구   이촌동  411 2021-01-01  43.02  11  8.75   \n",
       "22813  마곡수명산파크1단지  서울특별시  강서구  내발산동  742 2021-01-15  84.53   2  9.18   \n",
       "22814  마곡수명산파크1단지  서울특별시  강서구  내발산동  742 2021-01-16  84.53   2  6.50   \n",
       "22815  마곡수명산파크1단지  서울특별시  강서구  내발산동  742 2021-01-25  84.82   7  9.69   \n",
       "22816  마곡수명산파크1단지  서울특별시  강서구  내발산동  742 2021-01-30  84.53   8  9.80   \n",
       "\n",
       "              평당금액  ...         위도          경도   세대수  임대수  동수  주차대수  용적률  건폐율  \\\n",
       "0      6711.994421  ...  37.524037  126.958010   499    0   6   539  384   23   \n",
       "22813  3583.816397  ...  37.554424  126.830513  1421  841  16  1581  225   19   \n",
       "22814  2537.560629  ...  37.554424  126.830513  1421  841  16  1581  225   19   \n",
       "22815  3769.983494  ...  37.554424  126.830513  1421  841  16  1581  225   19   \n",
       "22816  3825.860641  ...  37.554424  126.830513  1421  841  16  1581  225   19   \n",
       "\n",
       "             건설사  거래월  \n",
       "0        동아건설(주)  01월  \n",
       "22813  (주)케이씨씨건설  01월  \n",
       "22814  (주)케이씨씨건설  01월  \n",
       "22815  (주)케이씨씨건설  01월  \n",
       "22816  (주)케이씨씨건설  01월  \n",
       "\n",
       "[5 rows x 21 columns]"
      ]
     },
     "execution_count": 12,
     "metadata": {},
     "output_type": "execute_result"
    }
   ],
   "source": [
    "apt.head()"
   ]
  },
  {
   "cell_type": "code",
   "execution_count": 13,
   "id": "4fb042c5",
   "metadata": {},
   "outputs": [
    {
     "data": {
      "text/plain": [
       "0        2021년 01월\n",
       "22813    2021년 01월\n",
       "22814    2021년 01월\n",
       "22815    2021년 01월\n",
       "22816    2021년 01월\n",
       "           ...    \n",
       "29153    2021년 12월\n",
       "29149    2021년 12월\n",
       "29141    2021년 12월\n",
       "17800    2021년 12월\n",
       "41263    2021년 12월\n",
       "Name: 거래일, Length: 41264, dtype: object"
      ]
     },
     "execution_count": 13,
     "metadata": {},
     "output_type": "execute_result"
    }
   ],
   "source": [
    "apt['거래일'].dt.strftime('%Y년 %m월')"
   ]
  },
  {
   "cell_type": "code",
   "execution_count": 14,
   "id": "c51544e1",
   "metadata": {},
   "outputs": [
    {
     "data": {
      "text/plain": [
       "0        2021-01\n",
       "22813    2021-01\n",
       "22814    2021-01\n",
       "22815    2021-01\n",
       "22816    2021-01\n",
       "          ...   \n",
       "29153    2021-12\n",
       "29149    2021-12\n",
       "29141    2021-12\n",
       "17800    2021-12\n",
       "41263    2021-12\n",
       "Name: 거래일, Length: 41264, dtype: object"
      ]
     },
     "execution_count": 14,
     "metadata": {},
     "output_type": "execute_result"
    }
   ],
   "source": [
    "apt['거래일'].dt.strftime('%Y-%m')"
   ]
  },
  {
   "cell_type": "code",
   "execution_count": 15,
   "id": "7585928e",
   "metadata": {},
   "outputs": [],
   "source": [
    "import seaborn as sns\n",
    "import matplotlib.pyplot as plt\n",
    "import matplotlib.font_manager as fm"
   ]
  },
  {
   "cell_type": "code",
   "execution_count": 16,
   "id": "ef0cf068",
   "metadata": {},
   "outputs": [
    {
     "data": {
      "text/plain": [
       "<AxesSubplot: xlabel='거래금액', ylabel='Count'>"
      ]
     },
     "execution_count": 16,
     "metadata": {},
     "output_type": "execute_result"
    },
    {
     "name": "stderr",
     "output_type": "stream",
     "text": [
      "C:\\Users\\15U40N\\Venv\\lib\\site-packages\\IPython\\core\\events.py:89: UserWarning: Glyph 44144 (\\N{HANGUL SYLLABLE GEO}) missing from current font.\n",
      "  func(*args, **kwargs)\n",
      "C:\\Users\\15U40N\\Venv\\lib\\site-packages\\IPython\\core\\events.py:89: UserWarning: Glyph 47000 (\\N{HANGUL SYLLABLE RAE}) missing from current font.\n",
      "  func(*args, **kwargs)\n",
      "C:\\Users\\15U40N\\Venv\\lib\\site-packages\\IPython\\core\\events.py:89: UserWarning: Glyph 44552 (\\N{HANGUL SYLLABLE GEUM}) missing from current font.\n",
      "  func(*args, **kwargs)\n",
      "C:\\Users\\15U40N\\Venv\\lib\\site-packages\\IPython\\core\\events.py:89: UserWarning: Glyph 50529 (\\N{HANGUL SYLLABLE AEG}) missing from current font.\n",
      "  func(*args, **kwargs)\n",
      "C:\\Users\\15U40N\\Venv\\lib\\site-packages\\IPython\\core\\pylabtools.py:151: UserWarning: Glyph 44144 (\\N{HANGUL SYLLABLE GEO}) missing from current font.\n",
      "  fig.canvas.print_figure(bytes_io, **kw)\n",
      "C:\\Users\\15U40N\\Venv\\lib\\site-packages\\IPython\\core\\pylabtools.py:151: UserWarning: Glyph 47000 (\\N{HANGUL SYLLABLE RAE}) missing from current font.\n",
      "  fig.canvas.print_figure(bytes_io, **kw)\n",
      "C:\\Users\\15U40N\\Venv\\lib\\site-packages\\IPython\\core\\pylabtools.py:151: UserWarning: Glyph 44552 (\\N{HANGUL SYLLABLE GEUM}) missing from current font.\n",
      "  fig.canvas.print_figure(bytes_io, **kw)\n",
      "C:\\Users\\15U40N\\Venv\\lib\\site-packages\\IPython\\core\\pylabtools.py:151: UserWarning: Glyph 50529 (\\N{HANGUL SYLLABLE AEG}) missing from current font.\n",
      "  fig.canvas.print_figure(bytes_io, **kw)\n"
     ]
    },
    {
     "data": {
      "image/png": "[encoded data removed]",
      "text/plain": [
       "<Figure size 640x480 with 1 Axes>"
      ]
     },
     "metadata": {},
     "output_type": "display_data"
    }
   ],
   "source": [
    "sns.histplot(data = apt, x = '거래금액')\n",
    "plt.title(label = '아파트 거래금액 분포');"
   ]
  },
  {
   "cell_type": "code",
   "execution_count": null,
   "id": "06f4c738",
   "metadata": {},
   "outputs": [],
   "source": []
  }
 ],
 "metadata": {
  "kernelspec": {
   "display_name": "Python 3 (ipykernel)",
   "language": "python",
   "name": "python3"
  },
  "language_info": {
   "codemirror_mode": {
    "name": "ipython",
    "version": 3
   },
   "file_extension": ".py",
   "mimetype": "text/x-python",
   "name": "python",
   "nbconvert_exporter": "python",
   "pygments_lexer": "ipython3",
   "version": "3.10.8"
  }
 },
 "nbformat": 4,
 "nbformat_minor": 5
}
