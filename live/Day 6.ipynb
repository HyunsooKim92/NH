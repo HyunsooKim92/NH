{
 "cells": [
  {
   "cell_type": "code",
   "execution_count": 1,
   "id": "46051479",
   "metadata": {},
   "outputs": [],
   "source": [
    "import os\n",
    "import joblib\n",
    "import numpy as np\n",
    "import pandas as pd"
   ]
  },
  {
   "cell_type": "code",
   "execution_count": 2,
   "id": "5cbdd01f",
   "metadata": {},
   "outputs": [],
   "source": [
    "%precision 3\n",
    "pd.options.display.precision = 3"
   ]
  },
  {
   "cell_type": "raw",
   "id": "f525550e",
   "metadata": {},
   "source": [
    "!pip install pingouin"
   ]
  },
  {
   "cell_type": "raw",
   "id": "9b415d76",
   "metadata": {},
   "source": [
    "!pip install scikit_posthocs"
   ]
  },
  {
   "cell_type": "code",
   "execution_count": 3,
   "id": "5319f3d7",
   "metadata": {},
   "outputs": [],
   "source": [
    "from scipy import stats\n",
    "import pingouin as pg\n",
    "import scikit_posthocs as sp"
   ]
  },
  {
   "cell_type": "code",
   "execution_count": 4,
   "id": "eb507f6d",
   "metadata": {},
   "outputs": [
    {
     "data": {
      "text/plain": [
       "'C:\\\\Users\\\\15U40N\\\\Documents\\\\NH-main\\\\live'"
      ]
     },
     "execution_count": 4,
     "metadata": {},
     "output_type": "execute_result"
    }
   ],
   "source": [
    "os.getcwd()"
   ]
  },
  {
   "cell_type": "code",
   "execution_count": 5,
   "id": "879e050f",
   "metadata": {},
   "outputs": [],
   "source": [
    "os.chdir('../data')"
   ]
  },
  {
   "cell_type": "code",
   "execution_count": 6,
   "id": "68aa4e83",
   "metadata": {
    "collapsed": true
   },
   "outputs": [
    {
     "data": {
      "text/plain": [
       "['APT_List_Seoul_2021.csv',\n",
       " 'APT_List_Seoul_2021.xlsx',\n",
       " 'APT_List_Seoul_2021.z',\n",
       " 'APT_Mean_Price_Dong_2021.xlsx',\n",
       " 'APT_Price_Seoul_2021.csv',\n",
       " 'APT_Price_Seoul_2021.xlsx',\n",
       " 'KBO_Hitters_2021.csv',\n",
       " 'KBO_Hitters_2021.xlsx',\n",
       " 'Naver_APT_Detail_Seoul.csv',\n",
       " 'Naver_APT_Detail_Seoul.xlsx',\n",
       " 'Used_Cars_Price.csv',\n",
       " 'Used_Cars_Price.xlsx',\n",
       " 'Used_Cars_Price.z']"
      ]
     },
     "execution_count": 6,
     "metadata": {},
     "output_type": "execute_result"
    }
   ],
   "source": [
    "os.listdir()"
   ]
  },
  {
   "cell_type": "code",
   "execution_count": 7,
   "id": "79dbc10e",
   "metadata": {},
   "outputs": [],
   "source": [
    "df = joblib.load('Used_Cars_Price.z')"
   ]
  },
  {
   "cell_type": "code",
   "execution_count": 8,
   "id": "6f988b18",
   "metadata": {
    "collapsed": true
   },
   "outputs": [
    {
     "name": "stdout",
     "output_type": "stream",
     "text": [
      "<class 'pandas.core.frame.DataFrame'>\n",
      "RangeIndex: 1268 entries, 0 to 1267\n",
      "Data columns (total 10 columns):\n",
      " #   Column     Non-Null Count  Dtype \n",
      "---  ------     --------------  ----- \n",
      " 0   Price      1268 non-null   int64 \n",
      " 1   Age        1268 non-null   int64 \n",
      " 2   KM         1268 non-null   int64 \n",
      " 3   FuelType   1268 non-null   object\n",
      " 4   HP         1268 non-null   int64 \n",
      " 5   MetColor   1268 non-null   object\n",
      " 6   Automatic  1268 non-null   object\n",
      " 7   CC         1268 non-null   int64 \n",
      " 8   Doors      1268 non-null   int64 \n",
      " 9   Weight     1268 non-null   int64 \n",
      "dtypes: int64(7), object(3)\n",
      "memory usage: 99.2+ KB\n"
     ]
    }
   ],
   "source": [
    "df.info()"
   ]
  },
  {
   "cell_type": "code",
   "execution_count": 9,
   "id": "5468b779",
   "metadata": {},
   "outputs": [
    {
     "data": {
      "text/html": [
       "<div>\n",
       "<style scoped>\n",
       "    .dataframe tbody tr th:only-of-type {\n",
       "        vertical-align: middle;\n",
       "    }\n",
       "\n",
       "    .dataframe tbody tr th {\n",
       "        vertical-align: top;\n",
       "    }\n",
       "\n",
       "    .dataframe thead th {\n",
       "        text-align: right;\n",
       "    }\n",
       "</style>\n",
       "<table border=\"1\" class=\"dataframe\">\n",
       "  <thead>\n",
       "    <tr style=\"text-align: right;\">\n",
       "      <th></th>\n",
       "      <th>Price</th>\n",
       "      <th>Age</th>\n",
       "      <th>KM</th>\n",
       "      <th>FuelType</th>\n",
       "      <th>HP</th>\n",
       "      <th>MetColor</th>\n",
       "      <th>Automatic</th>\n",
       "      <th>CC</th>\n",
       "      <th>Doors</th>\n",
       "      <th>Weight</th>\n",
       "    </tr>\n",
       "  </thead>\n",
       "  <tbody>\n",
       "    <tr>\n",
       "      <th>0</th>\n",
       "      <td>13500</td>\n",
       "      <td>23</td>\n",
       "      <td>46986</td>\n",
       "      <td>Diesel</td>\n",
       "      <td>90</td>\n",
       "      <td>1</td>\n",
       "      <td>0</td>\n",
       "      <td>2000</td>\n",
       "      <td>3</td>\n",
       "      <td>1165</td>\n",
       "    </tr>\n",
       "    <tr>\n",
       "      <th>1</th>\n",
       "      <td>13750</td>\n",
       "      <td>23</td>\n",
       "      <td>72937</td>\n",
       "      <td>Diesel</td>\n",
       "      <td>90</td>\n",
       "      <td>1</td>\n",
       "      <td>0</td>\n",
       "      <td>2000</td>\n",
       "      <td>3</td>\n",
       "      <td>1165</td>\n",
       "    </tr>\n",
       "    <tr>\n",
       "      <th>2</th>\n",
       "      <td>13950</td>\n",
       "      <td>24</td>\n",
       "      <td>41711</td>\n",
       "      <td>Diesel</td>\n",
       "      <td>90</td>\n",
       "      <td>1</td>\n",
       "      <td>0</td>\n",
       "      <td>2000</td>\n",
       "      <td>3</td>\n",
       "      <td>1165</td>\n",
       "    </tr>\n",
       "    <tr>\n",
       "      <th>3</th>\n",
       "      <td>14950</td>\n",
       "      <td>26</td>\n",
       "      <td>48000</td>\n",
       "      <td>Diesel</td>\n",
       "      <td>90</td>\n",
       "      <td>0</td>\n",
       "      <td>0</td>\n",
       "      <td>2000</td>\n",
       "      <td>3</td>\n",
       "      <td>1165</td>\n",
       "    </tr>\n",
       "    <tr>\n",
       "      <th>4</th>\n",
       "      <td>13750</td>\n",
       "      <td>30</td>\n",
       "      <td>38500</td>\n",
       "      <td>Diesel</td>\n",
       "      <td>90</td>\n",
       "      <td>0</td>\n",
       "      <td>0</td>\n",
       "      <td>2000</td>\n",
       "      <td>3</td>\n",
       "      <td>1170</td>\n",
       "    </tr>\n",
       "  </tbody>\n",
       "</table>\n",
       "</div>"
      ],
      "text/plain": [
       "   Price  Age     KM FuelType  HP MetColor Automatic    CC  Doors  Weight\n",
       "0  13500   23  46986   Diesel  90        1         0  2000      3    1165\n",
       "1  13750   23  72937   Diesel  90        1         0  2000      3    1165\n",
       "2  13950   24  41711   Diesel  90        1         0  2000      3    1165\n",
       "3  14950   26  48000   Diesel  90        0         0  2000      3    1165\n",
       "4  13750   30  38500   Diesel  90        0         0  2000      3    1170"
      ]
     },
     "execution_count": 9,
     "metadata": {},
     "output_type": "execute_result"
    }
   ],
   "source": [
    "df.head()"
   ]
  },
  {
   "cell_type": "code",
   "execution_count": 10,
   "id": "af97374e",
   "metadata": {},
   "outputs": [
    {
     "data": {
      "text/plain": [
       "-22157.693"
      ]
     },
     "execution_count": 10,
     "metadata": {},
     "output_type": "execute_result"
    }
   ],
   "source": [
    "df['Age'].cov(df['Price'])"
   ]
  },
  {
   "cell_type": "code",
   "execution_count": 20,
   "id": "c3262480",
   "metadata": {},
   "outputs": [
    {
     "data": {
      "text/html": [
       "<div>\n",
       "<style scoped>\n",
       "    .dataframe tbody tr th:only-of-type {\n",
       "        vertical-align: middle;\n",
       "    }\n",
       "\n",
       "    .dataframe tbody tr th {\n",
       "        vertical-align: top;\n",
       "    }\n",
       "\n",
       "    .dataframe thead th {\n",
       "        text-align: right;\n",
       "    }\n",
       "</style>\n",
       "<table border=\"1\" class=\"dataframe\">\n",
       "  <thead>\n",
       "    <tr style=\"text-align: right;\">\n",
       "      <th></th>\n",
       "      <th>Price</th>\n",
       "      <th>Age</th>\n",
       "      <th>KM</th>\n",
       "      <th>HP</th>\n",
       "      <th>CC</th>\n",
       "      <th>Doors</th>\n",
       "      <th>Weight</th>\n",
       "    </tr>\n",
       "  </thead>\n",
       "  <tbody>\n",
       "    <tr>\n",
       "      <th>Price</th>\n",
       "      <td>4.117e+06</td>\n",
       "      <td>-22157.693</td>\n",
       "      <td>-3.744e+07</td>\n",
       "      <td>5899.686</td>\n",
       "      <td>1.881e+04</td>\n",
       "      <td>317.011</td>\n",
       "      <td>15155.222</td>\n",
       "    </tr>\n",
       "    <tr>\n",
       "      <th>Age</th>\n",
       "      <td>-2.216e+04</td>\n",
       "      <td>187.942</td>\n",
       "      <td>1.712e+05</td>\n",
       "      <td>-7.990</td>\n",
       "      <td>-2.136e+02</td>\n",
       "      <td>-1.181</td>\n",
       "      <td>-98.226</td>\n",
       "    </tr>\n",
       "    <tr>\n",
       "      <th>KM</th>\n",
       "      <td>-3.744e+07</td>\n",
       "      <td>171187.124</td>\n",
       "      <td>1.286e+09</td>\n",
       "      <td>-155996.120</td>\n",
       "      <td>2.558e+06</td>\n",
       "      <td>595.873</td>\n",
       "      <td>359258.458</td>\n",
       "    </tr>\n",
       "    <tr>\n",
       "      <th>HP</th>\n",
       "      <td>5.900e+03</td>\n",
       "      <td>-7.990</td>\n",
       "      <td>-1.560e+05</td>\n",
       "      <td>171.608</td>\n",
       "      <td>-4.669e+01</td>\n",
       "      <td>1.497</td>\n",
       "      <td>-39.091</td>\n",
       "    </tr>\n",
       "    <tr>\n",
       "      <th>CC</th>\n",
       "      <td>1.881e+04</td>\n",
       "      <td>-213.607</td>\n",
       "      <td>2.558e+06</td>\n",
       "      <td>-46.686</td>\n",
       "      <td>3.373e+04</td>\n",
       "      <td>23.854</td>\n",
       "      <td>5001.293</td>\n",
       "    </tr>\n",
       "    <tr>\n",
       "      <th>Doors</th>\n",
       "      <td>3.170e+02</td>\n",
       "      <td>-1.181</td>\n",
       "      <td>5.959e+02</td>\n",
       "      <td>1.497</td>\n",
       "      <td>2.385e+01</td>\n",
       "      <td>0.900</td>\n",
       "      <td>13.211</td>\n",
       "    </tr>\n",
       "    <tr>\n",
       "      <th>Weight</th>\n",
       "      <td>1.516e+04</td>\n",
       "      <td>-98.226</td>\n",
       "      <td>3.593e+05</td>\n",
       "      <td>-39.091</td>\n",
       "      <td>5.001e+03</td>\n",
       "      <td>13.211</td>\n",
       "      <td>1145.079</td>\n",
       "    </tr>\n",
       "  </tbody>\n",
       "</table>\n",
       "</div>"
      ],
      "text/plain": [
       "            Price         Age         KM          HP         CC    Doors  \\\n",
       "Price   4.117e+06  -22157.693 -3.744e+07    5899.686  1.881e+04  317.011   \n",
       "Age    -2.216e+04     187.942  1.712e+05      -7.990 -2.136e+02   -1.181   \n",
       "KM     -3.744e+07  171187.124  1.286e+09 -155996.120  2.558e+06  595.873   \n",
       "HP      5.900e+03      -7.990 -1.560e+05     171.608 -4.669e+01    1.497   \n",
       "CC      1.881e+04    -213.607  2.558e+06     -46.686  3.373e+04   23.854   \n",
       "Doors   3.170e+02      -1.181  5.959e+02       1.497  2.385e+01    0.900   \n",
       "Weight  1.516e+04     -98.226  3.593e+05     -39.091  5.001e+03   13.211   \n",
       "\n",
       "            Weight  \n",
       "Price    15155.222  \n",
       "Age        -98.226  \n",
       "KM      359258.458  \n",
       "HP         -39.091  \n",
       "CC        5001.293  \n",
       "Doors       13.211  \n",
       "Weight    1145.079  "
      ]
     },
     "execution_count": 20,
     "metadata": {},
     "output_type": "execute_result"
    }
   ],
   "source": [
    "df.cov(numeric_only = True)"
   ]
  },
  {
   "cell_type": "code",
   "execution_count": 21,
   "id": "767abb68",
   "metadata": {},
   "outputs": [
    {
     "data": {
      "text/plain": [
       "-0.797"
      ]
     },
     "execution_count": 21,
     "metadata": {},
     "output_type": "execute_result"
    }
   ],
   "source": [
    "df['Age'].corr(df['Price'])"
   ]
  },
  {
   "cell_type": "code",
   "execution_count": 22,
   "id": "660f8880",
   "metadata": {},
   "outputs": [
    {
     "data": {
      "text/html": [
       "<div>\n",
       "<style scoped>\n",
       "    .dataframe tbody tr th:only-of-type {\n",
       "        vertical-align: middle;\n",
       "    }\n",
       "\n",
       "    .dataframe tbody tr th {\n",
       "        vertical-align: top;\n",
       "    }\n",
       "\n",
       "    .dataframe thead th {\n",
       "        text-align: right;\n",
       "    }\n",
       "</style>\n",
       "<table border=\"1\" class=\"dataframe\">\n",
       "  <thead>\n",
       "    <tr style=\"text-align: right;\">\n",
       "      <th></th>\n",
       "      <th>Price</th>\n",
       "      <th>Age</th>\n",
       "      <th>KM</th>\n",
       "      <th>HP</th>\n",
       "      <th>CC</th>\n",
       "      <th>Doors</th>\n",
       "      <th>Weight</th>\n",
       "    </tr>\n",
       "  </thead>\n",
       "  <tbody>\n",
       "    <tr>\n",
       "      <th>Price</th>\n",
       "      <td>1.000</td>\n",
       "      <td>-0.797</td>\n",
       "      <td>-0.515</td>\n",
       "      <td>0.222</td>\n",
       "      <td>0.050</td>\n",
       "      <td>0.165</td>\n",
       "      <td>0.221</td>\n",
       "    </tr>\n",
       "    <tr>\n",
       "      <th>Age</th>\n",
       "      <td>-0.797</td>\n",
       "      <td>1.000</td>\n",
       "      <td>0.348</td>\n",
       "      <td>-0.044</td>\n",
       "      <td>-0.085</td>\n",
       "      <td>-0.091</td>\n",
       "      <td>-0.212</td>\n",
       "    </tr>\n",
       "    <tr>\n",
       "      <th>KM</th>\n",
       "      <td>-0.515</td>\n",
       "      <td>0.348</td>\n",
       "      <td>1.000</td>\n",
       "      <td>-0.332</td>\n",
       "      <td>0.388</td>\n",
       "      <td>0.018</td>\n",
       "      <td>0.296</td>\n",
       "    </tr>\n",
       "    <tr>\n",
       "      <th>HP</th>\n",
       "      <td>0.222</td>\n",
       "      <td>-0.044</td>\n",
       "      <td>-0.332</td>\n",
       "      <td>1.000</td>\n",
       "      <td>-0.019</td>\n",
       "      <td>0.120</td>\n",
       "      <td>-0.088</td>\n",
       "    </tr>\n",
       "    <tr>\n",
       "      <th>CC</th>\n",
       "      <td>0.050</td>\n",
       "      <td>-0.085</td>\n",
       "      <td>0.388</td>\n",
       "      <td>-0.019</td>\n",
       "      <td>1.000</td>\n",
       "      <td>0.137</td>\n",
       "      <td>0.805</td>\n",
       "    </tr>\n",
       "    <tr>\n",
       "      <th>Doors</th>\n",
       "      <td>0.165</td>\n",
       "      <td>-0.091</td>\n",
       "      <td>0.018</td>\n",
       "      <td>0.120</td>\n",
       "      <td>0.137</td>\n",
       "      <td>1.000</td>\n",
       "      <td>0.412</td>\n",
       "    </tr>\n",
       "    <tr>\n",
       "      <th>Weight</th>\n",
       "      <td>0.221</td>\n",
       "      <td>-0.212</td>\n",
       "      <td>0.296</td>\n",
       "      <td>-0.088</td>\n",
       "      <td>0.805</td>\n",
       "      <td>0.412</td>\n",
       "      <td>1.000</td>\n",
       "    </tr>\n",
       "  </tbody>\n",
       "</table>\n",
       "</div>"
      ],
      "text/plain": [
       "        Price    Age     KM     HP     CC  Doors  Weight\n",
       "Price   1.000 -0.797 -0.515  0.222  0.050  0.165   0.221\n",
       "Age    -0.797  1.000  0.348 -0.044 -0.085 -0.091  -0.212\n",
       "KM     -0.515  0.348  1.000 -0.332  0.388  0.018   0.296\n",
       "HP      0.222 -0.044 -0.332  1.000 -0.019  0.120  -0.088\n",
       "CC      0.050 -0.085  0.388 -0.019  1.000  0.137   0.805\n",
       "Doors   0.165 -0.091  0.018  0.120  0.137  1.000   0.412\n",
       "Weight  0.221 -0.212  0.296 -0.088  0.805  0.412   1.000"
      ]
     },
     "execution_count": 22,
     "metadata": {},
     "output_type": "execute_result"
    }
   ],
   "source": [
    "df.corr(numeric_only = True)"
   ]
  },
  {
   "cell_type": "code",
   "execution_count": 23,
   "id": "47e1ff66",
   "metadata": {},
   "outputs": [
    {
     "data": {
      "text/plain": [
       "PearsonRResult(statistic=-0.7965447290519272, pvalue=5.879610942257874e-279)"
      ]
     },
     "execution_count": 23,
     "metadata": {},
     "output_type": "execute_result"
    }
   ],
   "source": [
    "stats.pearsonr(x = df['Age'], y = df['Price'])"
   ]
  },
  {
   "cell_type": "code",
   "execution_count": 24,
   "id": "221aa732",
   "metadata": {},
   "outputs": [
    {
     "data": {
      "text/html": [
       "<div>\n",
       "<style scoped>\n",
       "    .dataframe tbody tr th:only-of-type {\n",
       "        vertical-align: middle;\n",
       "    }\n",
       "\n",
       "    .dataframe tbody tr th {\n",
       "        vertical-align: top;\n",
       "    }\n",
       "\n",
       "    .dataframe thead th {\n",
       "        text-align: right;\n",
       "    }\n",
       "</style>\n",
       "<table border=\"1\" class=\"dataframe\">\n",
       "  <thead>\n",
       "    <tr style=\"text-align: right;\">\n",
       "      <th></th>\n",
       "      <th>n</th>\n",
       "      <th>r</th>\n",
       "      <th>CI95%</th>\n",
       "      <th>p-val</th>\n",
       "      <th>BF10</th>\n",
       "      <th>power</th>\n",
       "    </tr>\n",
       "  </thead>\n",
       "  <tbody>\n",
       "    <tr>\n",
       "      <th>pearson</th>\n",
       "      <td>1268</td>\n",
       "      <td>-0.797</td>\n",
       "      <td>[-0.82, -0.78]</td>\n",
       "      <td>5.880e-279</td>\n",
       "      <td>6.169e+274</td>\n",
       "      <td>1.0</td>\n",
       "    </tr>\n",
       "  </tbody>\n",
       "</table>\n",
       "</div>"
      ],
      "text/plain": [
       "            n      r           CI95%       p-val        BF10  power\n",
       "pearson  1268 -0.797  [-0.82, -0.78]  5.880e-279  6.169e+274    1.0"
      ]
     },
     "execution_count": 24,
     "metadata": {},
     "output_type": "execute_result"
    }
   ],
   "source": [
    "pg.corr(x = df['Age'], y = df['Price'])"
   ]
  },
  {
   "cell_type": "code",
   "execution_count": 25,
   "id": "7680a172",
   "metadata": {},
   "outputs": [],
   "source": [
    "x = df['Age']"
   ]
  },
  {
   "cell_type": "code",
   "execution_count": 28,
   "id": "8d01eb92",
   "metadata": {},
   "outputs": [],
   "source": [
    "corr = lambda x: pg.corr(x = x, y = df['Price'])['p-val']"
   ]
  },
  {
   "cell_type": "code",
   "execution_count": 29,
   "id": "25ae69bf",
   "metadata": {},
   "outputs": [
    {
     "data": {
      "text/plain": [
       "pearson    5.880e-279\n",
       "Name: p-val, dtype: float64"
      ]
     },
     "execution_count": 29,
     "metadata": {},
     "output_type": "execute_result"
    }
   ],
   "source": [
    "corr(x = df['Age'])"
   ]
  },
  {
   "cell_type": "code",
   "execution_count": 36,
   "id": "615f9b49",
   "metadata": {},
   "outputs": [
    {
     "data": {
      "text/plain": [
       "Price         int64\n",
       "Age           int64\n",
       "KM            int64\n",
       "FuelType     object\n",
       "HP            int64\n",
       "MetColor     object\n",
       "Automatic    object\n",
       "CC            int64\n",
       "Doors         int64\n",
       "Weight        int64\n",
       "dtype: object"
      ]
     },
     "execution_count": 36,
     "metadata": {},
     "output_type": "execute_result"
    }
   ],
   "source": [
    "df.dtypes"
   ]
  },
  {
   "cell_type": "code",
   "execution_count": 35,
   "id": "b5dec30b",
   "metadata": {},
   "outputs": [
    {
     "data": {
      "text/plain": [
       "Price         True\n",
       "Age           True\n",
       "KM            True\n",
       "FuelType     False\n",
       "HP            True\n",
       "MetColor     False\n",
       "Automatic    False\n",
       "CC            True\n",
       "Doors         True\n",
       "Weight        True\n",
       "dtype: bool"
      ]
     },
     "execution_count": 35,
     "metadata": {},
     "output_type": "execute_result"
    }
   ],
   "source": [
    "locs = df.dtypes.astype(str).isin(values = ['int64', 'float64'])\n",
    "locs"
   ]
  },
  {
   "cell_type": "code",
   "execution_count": 38,
   "id": "d93c9d19",
   "metadata": {},
   "outputs": [
    {
     "data": {
      "text/html": [
       "<div>\n",
       "<style scoped>\n",
       "    .dataframe tbody tr th:only-of-type {\n",
       "        vertical-align: middle;\n",
       "    }\n",
       "\n",
       "    .dataframe tbody tr th {\n",
       "        vertical-align: top;\n",
       "    }\n",
       "\n",
       "    .dataframe thead th {\n",
       "        text-align: right;\n",
       "    }\n",
       "</style>\n",
       "<table border=\"1\" class=\"dataframe\">\n",
       "  <thead>\n",
       "    <tr style=\"text-align: right;\">\n",
       "      <th></th>\n",
       "      <th>Price</th>\n",
       "      <th>Age</th>\n",
       "      <th>KM</th>\n",
       "      <th>HP</th>\n",
       "      <th>CC</th>\n",
       "      <th>Doors</th>\n",
       "      <th>Weight</th>\n",
       "    </tr>\n",
       "  </thead>\n",
       "  <tbody>\n",
       "    <tr>\n",
       "      <th>pearson</th>\n",
       "      <td>False</td>\n",
       "      <td>False</td>\n",
       "      <td>False</td>\n",
       "      <td>False</td>\n",
       "      <td>True</td>\n",
       "      <td>False</td>\n",
       "      <td>False</td>\n",
       "    </tr>\n",
       "  </tbody>\n",
       "</table>\n",
       "</div>"
      ],
      "text/plain": [
       "         Price    Age     KM     HP    CC  Doors  Weight\n",
       "pearson  False  False  False  False  True  False   False"
      ]
     },
     "execution_count": 38,
     "metadata": {},
     "output_type": "execute_result"
    }
   ],
   "source": [
    "df.loc[:, locs].apply(func = corr, axis = 0).ge(0.05)"
   ]
  },
  {
   "cell_type": "code",
   "execution_count": 39,
   "id": "daece9d2",
   "metadata": {},
   "outputs": [
    {
     "data": {
      "text/html": [
       "<div>\n",
       "<style scoped>\n",
       "    .dataframe tbody tr th:only-of-type {\n",
       "        vertical-align: middle;\n",
       "    }\n",
       "\n",
       "    .dataframe tbody tr th {\n",
       "        vertical-align: top;\n",
       "    }\n",
       "\n",
       "    .dataframe thead th {\n",
       "        text-align: right;\n",
       "    }\n",
       "</style>\n",
       "<table border=\"1\" class=\"dataframe\">\n",
       "  <thead>\n",
       "    <tr style=\"text-align: right;\">\n",
       "      <th></th>\n",
       "      <th>W</th>\n",
       "      <th>pval</th>\n",
       "      <th>normal</th>\n",
       "    </tr>\n",
       "  </thead>\n",
       "  <tbody>\n",
       "    <tr>\n",
       "      <th>1</th>\n",
       "      <td>0.975</td>\n",
       "      <td>7.077e-11</td>\n",
       "      <td>False</td>\n",
       "    </tr>\n",
       "    <tr>\n",
       "      <th>0</th>\n",
       "      <td>0.988</td>\n",
       "      <td>1.430e-03</td>\n",
       "      <td>False</td>\n",
       "    </tr>\n",
       "  </tbody>\n",
       "</table>\n",
       "</div>"
      ],
      "text/plain": [
       "       W       pval  normal\n",
       "1  0.975  7.077e-11   False\n",
       "0  0.988  1.430e-03   False"
      ]
     },
     "execution_count": 39,
     "metadata": {},
     "output_type": "execute_result"
    }
   ],
   "source": [
    "pg.normality(data = df, dv = 'Price', group = 'MetColor')"
   ]
  },
  {
   "cell_type": "code",
   "execution_count": 40,
   "id": "9b6ce675",
   "metadata": {},
   "outputs": [
    {
     "data": {
      "text/html": [
       "<div>\n",
       "<style scoped>\n",
       "    .dataframe tbody tr th:only-of-type {\n",
       "        vertical-align: middle;\n",
       "    }\n",
       "\n",
       "    .dataframe tbody tr th {\n",
       "        vertical-align: top;\n",
       "    }\n",
       "\n",
       "    .dataframe thead th {\n",
       "        text-align: right;\n",
       "    }\n",
       "</style>\n",
       "<table border=\"1\" class=\"dataframe\">\n",
       "  <thead>\n",
       "    <tr style=\"text-align: right;\">\n",
       "      <th></th>\n",
       "      <th>W</th>\n",
       "      <th>pval</th>\n",
       "      <th>equal_var</th>\n",
       "    </tr>\n",
       "  </thead>\n",
       "  <tbody>\n",
       "    <tr>\n",
       "      <th>levene</th>\n",
       "      <td>5.761</td>\n",
       "      <td>0.017</td>\n",
       "      <td>False</td>\n",
       "    </tr>\n",
       "  </tbody>\n",
       "</table>\n",
       "</div>"
      ],
      "text/plain": [
       "            W   pval  equal_var\n",
       "levene  5.761  0.017      False"
      ]
     },
     "execution_count": 40,
     "metadata": {},
     "output_type": "execute_result"
    }
   ],
   "source": [
    "pg.homoscedasticity(data = df, dv = 'Price', group = 'MetColor')"
   ]
  },
  {
   "cell_type": "raw",
   "id": "01a77c2c",
   "metadata": {},
   "source": [
    "sp1 = df['Price'][df['MetColor'].eq('0')]\n",
    "sp2 = df['Price'][df['MetColor'].eq('1')]"
   ]
  },
  {
   "cell_type": "code",
   "execution_count": 41,
   "id": "54dabef2",
   "metadata": {},
   "outputs": [
    {
     "data": {
      "text/plain": [
       "array(['1', '0'], dtype=object)"
      ]
     },
     "execution_count": 41,
     "metadata": {},
     "output_type": "execute_result"
    }
   ],
   "source": [
    "values = df['MetColor'].unique()\n",
    "values"
   ]
  },
  {
   "cell_type": "code",
   "execution_count": 45,
   "id": "372e953a",
   "metadata": {},
   "outputs": [],
   "source": [
    "sp1, sp2 = [df['Price'][df['MetColor'].eq(v)] for v in values]"
   ]
  },
  {
   "cell_type": "code",
   "execution_count": 46,
   "id": "229b3c3e",
   "metadata": {},
   "outputs": [
    {
     "data": {
      "text/html": [
       "<div>\n",
       "<style scoped>\n",
       "    .dataframe tbody tr th:only-of-type {\n",
       "        vertical-align: middle;\n",
       "    }\n",
       "\n",
       "    .dataframe tbody tr th {\n",
       "        vertical-align: top;\n",
       "    }\n",
       "\n",
       "    .dataframe thead th {\n",
       "        text-align: right;\n",
       "    }\n",
       "</style>\n",
       "<table border=\"1\" class=\"dataframe\">\n",
       "  <thead>\n",
       "    <tr style=\"text-align: right;\">\n",
       "      <th></th>\n",
       "      <th>T</th>\n",
       "      <th>dof</th>\n",
       "      <th>alternative</th>\n",
       "      <th>p-val</th>\n",
       "      <th>CI95%</th>\n",
       "      <th>cohen-d</th>\n",
       "      <th>BF10</th>\n",
       "      <th>power</th>\n",
       "    </tr>\n",
       "  </thead>\n",
       "  <tbody>\n",
       "    <tr>\n",
       "      <th>T-test</th>\n",
       "      <td>2.984</td>\n",
       "      <td>935.893</td>\n",
       "      <td>two-sided</td>\n",
       "      <td>0.003</td>\n",
       "      <td>[118.92, 576.0]</td>\n",
       "      <td>0.172</td>\n",
       "      <td>5.313</td>\n",
       "      <td>0.824</td>\n",
       "    </tr>\n",
       "  </tbody>\n",
       "</table>\n",
       "</div>"
      ],
      "text/plain": [
       "            T      dof alternative  p-val            CI95%  cohen-d   BF10  \\\n",
       "T-test  2.984  935.893   two-sided  0.003  [118.92, 576.0]    0.172  5.313   \n",
       "\n",
       "        power  \n",
       "T-test  0.824  "
      ]
     },
     "execution_count": 46,
     "metadata": {},
     "output_type": "execute_result"
    }
   ],
   "source": [
    "pg.ttest(x = sp1, y = sp2, correction = True)"
   ]
  },
  {
   "cell_type": "code",
   "execution_count": 47,
   "id": "299bb648",
   "metadata": {},
   "outputs": [
    {
     "data": {
      "text/html": [
       "<div>\n",
       "<style scoped>\n",
       "    .dataframe tbody tr th:only-of-type {\n",
       "        vertical-align: middle;\n",
       "    }\n",
       "\n",
       "    .dataframe tbody tr th {\n",
       "        vertical-align: top;\n",
       "    }\n",
       "\n",
       "    .dataframe thead th {\n",
       "        text-align: right;\n",
       "    }\n",
       "</style>\n",
       "<table border=\"1\" class=\"dataframe\">\n",
       "  <thead>\n",
       "    <tr style=\"text-align: right;\">\n",
       "      <th></th>\n",
       "      <th>T</th>\n",
       "      <th>dof</th>\n",
       "      <th>alternative</th>\n",
       "      <th>p-val</th>\n",
       "      <th>CI95%</th>\n",
       "      <th>cohen-d</th>\n",
       "      <th>BF10</th>\n",
       "      <th>power</th>\n",
       "    </tr>\n",
       "  </thead>\n",
       "  <tbody>\n",
       "    <tr>\n",
       "      <th>T-test</th>\n",
       "      <td>2.892</td>\n",
       "      <td>1266</td>\n",
       "      <td>two-sided</td>\n",
       "      <td>0.004</td>\n",
       "      <td>[111.73, 583.18]</td>\n",
       "      <td>0.172</td>\n",
       "      <td>4.077</td>\n",
       "      <td>0.824</td>\n",
       "    </tr>\n",
       "  </tbody>\n",
       "</table>\n",
       "</div>"
      ],
      "text/plain": [
       "            T   dof alternative  p-val             CI95%  cohen-d   BF10  \\\n",
       "T-test  2.892  1266   two-sided  0.004  [111.73, 583.18]    0.172  4.077   \n",
       "\n",
       "        power  \n",
       "T-test  0.824  "
      ]
     },
     "execution_count": 47,
     "metadata": {},
     "output_type": "execute_result"
    }
   ],
   "source": [
    "pg.ttest(x = sp1, y = sp2, correction = False)"
   ]
  },
  {
   "cell_type": "code",
   "execution_count": 48,
   "id": "fc0602ff",
   "metadata": {},
   "outputs": [
    {
     "data": {
      "text/html": [
       "<div>\n",
       "<style scoped>\n",
       "    .dataframe tbody tr th:only-of-type {\n",
       "        vertical-align: middle;\n",
       "    }\n",
       "\n",
       "    .dataframe tbody tr th {\n",
       "        vertical-align: top;\n",
       "    }\n",
       "\n",
       "    .dataframe thead th {\n",
       "        text-align: right;\n",
       "    }\n",
       "</style>\n",
       "<table border=\"1\" class=\"dataframe\">\n",
       "  <thead>\n",
       "    <tr style=\"text-align: right;\">\n",
       "      <th></th>\n",
       "      <th>U-val</th>\n",
       "      <th>alternative</th>\n",
       "      <th>p-val</th>\n",
       "      <th>RBC</th>\n",
       "      <th>CLES</th>\n",
       "    </tr>\n",
       "  </thead>\n",
       "  <tbody>\n",
       "    <tr>\n",
       "      <th>MWU</th>\n",
       "      <td>193144.0</td>\n",
       "      <td>two-sided</td>\n",
       "      <td>0.03</td>\n",
       "      <td>-0.074</td>\n",
       "      <td>0.537</td>\n",
       "    </tr>\n",
       "  </tbody>\n",
       "</table>\n",
       "</div>"
      ],
      "text/plain": [
       "        U-val alternative  p-val    RBC   CLES\n",
       "MWU  193144.0   two-sided   0.03 -0.074  0.537"
      ]
     },
     "execution_count": 48,
     "metadata": {},
     "output_type": "execute_result"
    }
   ],
   "source": [
    "pg.mwu(x = sp1, y = sp2)"
   ]
  },
  {
   "cell_type": "code",
   "execution_count": 49,
   "id": "6671cc73",
   "metadata": {},
   "outputs": [],
   "source": [
    "from GraphicSetting import *"
   ]
  },
  {
   "cell_type": "code",
   "execution_count": 50,
   "id": "34360e47",
   "metadata": {},
   "outputs": [
    {
     "data": {
      "image/png": "[encoded data removed]",
      "text/plain": [
       "<Figure size 1200x600 with 1 Axes>"
      ]
     },
     "metadata": {},
     "output_type": "display_data"
    }
   ],
   "source": [
    "sns.kdeplot(data = df, x = 'Price', hue = 'MetColor', fill = True);"
   ]
  },
  {
   "cell_type": "code",
   "execution_count": 51,
   "id": "1eeec702",
   "metadata": {},
   "outputs": [
    {
     "data": {
      "text/html": [
       "<div>\n",
       "<style scoped>\n",
       "    .dataframe tbody tr th:only-of-type {\n",
       "        vertical-align: middle;\n",
       "    }\n",
       "\n",
       "    .dataframe tbody tr th {\n",
       "        vertical-align: top;\n",
       "    }\n",
       "\n",
       "    .dataframe thead th {\n",
       "        text-align: right;\n",
       "    }\n",
       "</style>\n",
       "<table border=\"1\" class=\"dataframe\">\n",
       "  <thead>\n",
       "    <tr style=\"text-align: right;\">\n",
       "      <th></th>\n",
       "      <th>W</th>\n",
       "      <th>pval</th>\n",
       "      <th>normal</th>\n",
       "    </tr>\n",
       "  </thead>\n",
       "  <tbody>\n",
       "    <tr>\n",
       "      <th>0</th>\n",
       "      <td>0.981</td>\n",
       "      <td>2.977e-11</td>\n",
       "      <td>False</td>\n",
       "    </tr>\n",
       "    <tr>\n",
       "      <th>1</th>\n",
       "      <td>0.948</td>\n",
       "      <td>5.998e-03</td>\n",
       "      <td>False</td>\n",
       "    </tr>\n",
       "  </tbody>\n",
       "</table>\n",
       "</div>"
      ],
      "text/plain": [
       "       W       pval  normal\n",
       "0  0.981  2.977e-11   False\n",
       "1  0.948  5.998e-03   False"
      ]
     },
     "execution_count": 51,
     "metadata": {},
     "output_type": "execute_result"
    }
   ],
   "source": [
    "pg.normality(data = df, dv = 'Price', group = 'Automatic')"
   ]
  },
  {
   "cell_type": "code",
   "execution_count": 52,
   "id": "c093bfaa",
   "metadata": {},
   "outputs": [
    {
     "data": {
      "text/html": [
       "<div>\n",
       "<style scoped>\n",
       "    .dataframe tbody tr th:only-of-type {\n",
       "        vertical-align: middle;\n",
       "    }\n",
       "\n",
       "    .dataframe tbody tr th {\n",
       "        vertical-align: top;\n",
       "    }\n",
       "\n",
       "    .dataframe thead th {\n",
       "        text-align: right;\n",
       "    }\n",
       "</style>\n",
       "<table border=\"1\" class=\"dataframe\">\n",
       "  <thead>\n",
       "    <tr style=\"text-align: right;\">\n",
       "      <th></th>\n",
       "      <th>W</th>\n",
       "      <th>pval</th>\n",
       "      <th>equal_var</th>\n",
       "    </tr>\n",
       "  </thead>\n",
       "  <tbody>\n",
       "    <tr>\n",
       "      <th>levene</th>\n",
       "      <td>1.093</td>\n",
       "      <td>0.296</td>\n",
       "      <td>True</td>\n",
       "    </tr>\n",
       "  </tbody>\n",
       "</table>\n",
       "</div>"
      ],
      "text/plain": [
       "            W   pval  equal_var\n",
       "levene  1.093  0.296       True"
      ]
     },
     "execution_count": 52,
     "metadata": {},
     "output_type": "execute_result"
    }
   ],
   "source": [
    "pg.homoscedasticity(data = df, dv = 'Price', group = 'Automatic')"
   ]
  },
  {
   "cell_type": "code",
   "execution_count": 53,
   "id": "897234a1",
   "metadata": {},
   "outputs": [],
   "source": [
    "values = df['Automatic'].unique()"
   ]
  },
  {
   "cell_type": "code",
   "execution_count": 54,
   "id": "0425194a",
   "metadata": {},
   "outputs": [],
   "source": [
    "sp1, sp2 = [df['Price'][df['Automatic'].eq(v)] for v in values]"
   ]
  },
  {
   "cell_type": "code",
   "execution_count": 55,
   "id": "038f2a5b",
   "metadata": {},
   "outputs": [
    {
     "data": {
      "text/html": [
       "<div>\n",
       "<style scoped>\n",
       "    .dataframe tbody tr th:only-of-type {\n",
       "        vertical-align: middle;\n",
       "    }\n",
       "\n",
       "    .dataframe tbody tr th {\n",
       "        vertical-align: top;\n",
       "    }\n",
       "\n",
       "    .dataframe thead th {\n",
       "        text-align: right;\n",
       "    }\n",
       "</style>\n",
       "<table border=\"1\" class=\"dataframe\">\n",
       "  <thead>\n",
       "    <tr style=\"text-align: right;\">\n",
       "      <th></th>\n",
       "      <th>T</th>\n",
       "      <th>dof</th>\n",
       "      <th>alternative</th>\n",
       "      <th>p-val</th>\n",
       "      <th>CI95%</th>\n",
       "      <th>cohen-d</th>\n",
       "      <th>BF10</th>\n",
       "      <th>power</th>\n",
       "    </tr>\n",
       "  </thead>\n",
       "  <tbody>\n",
       "    <tr>\n",
       "      <th>T-test</th>\n",
       "      <td>-1.473</td>\n",
       "      <td>1266</td>\n",
       "      <td>two-sided</td>\n",
       "      <td>0.141</td>\n",
       "      <td>[-856.55, 121.99]</td>\n",
       "      <td>0.181</td>\n",
       "      <td>0.377</td>\n",
       "      <td>0.313</td>\n",
       "    </tr>\n",
       "  </tbody>\n",
       "</table>\n",
       "</div>"
      ],
      "text/plain": [
       "            T   dof alternative  p-val              CI95%  cohen-d   BF10  \\\n",
       "T-test -1.473  1266   two-sided  0.141  [-856.55, 121.99]    0.181  0.377   \n",
       "\n",
       "        power  \n",
       "T-test  0.313  "
      ]
     },
     "execution_count": 55,
     "metadata": {},
     "output_type": "execute_result"
    }
   ],
   "source": [
    "pg.ttest(x = sp1, y = sp2, correction = False)"
   ]
  },
  {
   "cell_type": "code",
   "execution_count": 56,
   "id": "0ead2038",
   "metadata": {},
   "outputs": [
    {
     "data": {
      "text/html": [
       "<div>\n",
       "<style scoped>\n",
       "    .dataframe tbody tr th:only-of-type {\n",
       "        vertical-align: middle;\n",
       "    }\n",
       "\n",
       "    .dataframe tbody tr th {\n",
       "        vertical-align: top;\n",
       "    }\n",
       "\n",
       "    .dataframe thead th {\n",
       "        text-align: right;\n",
       "    }\n",
       "</style>\n",
       "<table border=\"1\" class=\"dataframe\">\n",
       "  <thead>\n",
       "    <tr style=\"text-align: right;\">\n",
       "      <th></th>\n",
       "      <th>U-val</th>\n",
       "      <th>alternative</th>\n",
       "      <th>p-val</th>\n",
       "      <th>RBC</th>\n",
       "      <th>CLES</th>\n",
       "    </tr>\n",
       "  </thead>\n",
       "  <tbody>\n",
       "    <tr>\n",
       "      <th>MWU</th>\n",
       "      <td>37216.5</td>\n",
       "      <td>two-sided</td>\n",
       "      <td>0.113</td>\n",
       "      <td>0.112</td>\n",
       "      <td>0.444</td>\n",
       "    </tr>\n",
       "  </tbody>\n",
       "</table>\n",
       "</div>"
      ],
      "text/plain": [
       "       U-val alternative  p-val    RBC   CLES\n",
       "MWU  37216.5   two-sided  0.113  0.112  0.444"
      ]
     },
     "execution_count": 56,
     "metadata": {},
     "output_type": "execute_result"
    }
   ],
   "source": [
    "pg.mwu(x = sp1, y = sp2)"
   ]
  },
  {
   "cell_type": "code",
   "execution_count": 57,
   "id": "435384c5",
   "metadata": {},
   "outputs": [
    {
     "data": {
      "text/html": [
       "<div>\n",
       "<style scoped>\n",
       "    .dataframe tbody tr th:only-of-type {\n",
       "        vertical-align: middle;\n",
       "    }\n",
       "\n",
       "    .dataframe tbody tr th {\n",
       "        vertical-align: top;\n",
       "    }\n",
       "\n",
       "    .dataframe thead th {\n",
       "        text-align: right;\n",
       "    }\n",
       "</style>\n",
       "<table border=\"1\" class=\"dataframe\">\n",
       "  <thead>\n",
       "    <tr style=\"text-align: right;\">\n",
       "      <th></th>\n",
       "      <th>W</th>\n",
       "      <th>pval</th>\n",
       "      <th>normal</th>\n",
       "    </tr>\n",
       "  </thead>\n",
       "  <tbody>\n",
       "    <tr>\n",
       "      <th>Diesel</th>\n",
       "      <td>0.956</td>\n",
       "      <td>4.250e-04</td>\n",
       "      <td>False</td>\n",
       "    </tr>\n",
       "    <tr>\n",
       "      <th>Petrol</th>\n",
       "      <td>0.978</td>\n",
       "      <td>5.504e-12</td>\n",
       "      <td>False</td>\n",
       "    </tr>\n",
       "    <tr>\n",
       "      <th>CNG</th>\n",
       "      <td>0.952</td>\n",
       "      <td>4.957e-01</td>\n",
       "      <td>True</td>\n",
       "    </tr>\n",
       "  </tbody>\n",
       "</table>\n",
       "</div>"
      ],
      "text/plain": [
       "            W       pval  normal\n",
       "Diesel  0.956  4.250e-04   False\n",
       "Petrol  0.978  5.504e-12   False\n",
       "CNG     0.952  4.957e-01    True"
      ]
     },
     "execution_count": 57,
     "metadata": {},
     "output_type": "execute_result"
    }
   ],
   "source": [
    "pg.normality(data = df, dv = 'Price', group = 'FuelType')"
   ]
  },
  {
   "cell_type": "code",
   "execution_count": 58,
   "id": "7512688c",
   "metadata": {},
   "outputs": [
    {
     "data": {
      "text/html": [
       "<div>\n",
       "<style scoped>\n",
       "    .dataframe tbody tr th:only-of-type {\n",
       "        vertical-align: middle;\n",
       "    }\n",
       "\n",
       "    .dataframe tbody tr th {\n",
       "        vertical-align: top;\n",
       "    }\n",
       "\n",
       "    .dataframe thead th {\n",
       "        text-align: right;\n",
       "    }\n",
       "</style>\n",
       "<table border=\"1\" class=\"dataframe\">\n",
       "  <thead>\n",
       "    <tr style=\"text-align: right;\">\n",
       "      <th></th>\n",
       "      <th>W</th>\n",
       "      <th>pval</th>\n",
       "      <th>equal_var</th>\n",
       "    </tr>\n",
       "  </thead>\n",
       "  <tbody>\n",
       "    <tr>\n",
       "      <th>levene</th>\n",
       "      <td>6.498</td>\n",
       "      <td>0.002</td>\n",
       "      <td>False</td>\n",
       "    </tr>\n",
       "  </tbody>\n",
       "</table>\n",
       "</div>"
      ],
      "text/plain": [
       "            W   pval  equal_var\n",
       "levene  6.498  0.002      False"
      ]
     },
     "execution_count": 58,
     "metadata": {},
     "output_type": "execute_result"
    }
   ],
   "source": [
    "pg.homoscedasticity(data = df, dv = 'Price', group = 'FuelType')"
   ]
  },
  {
   "cell_type": "code",
   "execution_count": 60,
   "id": "2fb03f49",
   "metadata": {},
   "outputs": [
    {
     "name": "stderr",
     "output_type": "stream",
     "text": [
      "C:\\Users\\15U40N\\Venv\\lib\\site-packages\\pingouin\\parametric.py:1341: FutureWarning: Not prepending group keys to the result index of transform-like apply. In the future, the group keys will be included in the index, regardless of whether the applied function returns a like-indexed object.\n",
      "To preserve the previous behavior, use\n",
      "\n",
      "\t>>> .groupby(..., group_keys=False)\n",
      "\n",
      "To adopt the future behavior and silence this warning, use \n",
      "\n",
      "\t>>> .groupby(..., group_keys=True)\n",
      "  ss_res = grp.apply(lambda x: (x - x.mean()) ** 2).sum()\n"
     ]
    },
    {
     "data": {
      "text/html": [
       "<div>\n",
       "<style scoped>\n",
       "    .dataframe tbody tr th:only-of-type {\n",
       "        vertical-align: middle;\n",
       "    }\n",
       "\n",
       "    .dataframe tbody tr th {\n",
       "        vertical-align: top;\n",
       "    }\n",
       "\n",
       "    .dataframe thead th {\n",
       "        text-align: right;\n",
       "    }\n",
       "</style>\n",
       "<table border=\"1\" class=\"dataframe\">\n",
       "  <thead>\n",
       "    <tr style=\"text-align: right;\">\n",
       "      <th></th>\n",
       "      <th>Source</th>\n",
       "      <th>ddof1</th>\n",
       "      <th>ddof2</th>\n",
       "      <th>F</th>\n",
       "      <th>p-unc</th>\n",
       "      <th>np2</th>\n",
       "    </tr>\n",
       "  </thead>\n",
       "  <tbody>\n",
       "    <tr>\n",
       "      <th>0</th>\n",
       "      <td>FuelType</td>\n",
       "      <td>2</td>\n",
       "      <td>38.942</td>\n",
       "      <td>2.612</td>\n",
       "      <td>0.086</td>\n",
       "      <td>0.006</td>\n",
       "    </tr>\n",
       "  </tbody>\n",
       "</table>\n",
       "</div>"
      ],
      "text/plain": [
       "     Source  ddof1   ddof2      F  p-unc    np2\n",
       "0  FuelType      2  38.942  2.612  0.086  0.006"
      ]
     },
     "execution_count": 60,
     "metadata": {},
     "output_type": "execute_result"
    }
   ],
   "source": [
    "pg.welch_anova(data = df, dv = 'Price', between = 'FuelType')"
   ]
  },
  {
   "cell_type": "code",
   "execution_count": 61,
   "id": "b6f4f6cb",
   "metadata": {},
   "outputs": [
    {
     "data": {
      "text/html": [
       "<div>\n",
       "<style scoped>\n",
       "    .dataframe tbody tr th:only-of-type {\n",
       "        vertical-align: middle;\n",
       "    }\n",
       "\n",
       "    .dataframe tbody tr th {\n",
       "        vertical-align: top;\n",
       "    }\n",
       "\n",
       "    .dataframe thead th {\n",
       "        text-align: right;\n",
       "    }\n",
       "</style>\n",
       "<table border=\"1\" class=\"dataframe\">\n",
       "  <thead>\n",
       "    <tr style=\"text-align: right;\">\n",
       "      <th></th>\n",
       "      <th>Source</th>\n",
       "      <th>ddof1</th>\n",
       "      <th>H</th>\n",
       "      <th>p-unc</th>\n",
       "    </tr>\n",
       "  </thead>\n",
       "  <tbody>\n",
       "    <tr>\n",
       "      <th>Kruskal</th>\n",
       "      <td>FuelType</td>\n",
       "      <td>2</td>\n",
       "      <td>10.475</td>\n",
       "      <td>0.005</td>\n",
       "    </tr>\n",
       "  </tbody>\n",
       "</table>\n",
       "</div>"
      ],
      "text/plain": [
       "           Source  ddof1       H  p-unc\n",
       "Kruskal  FuelType      2  10.475  0.005"
      ]
     },
     "execution_count": 61,
     "metadata": {},
     "output_type": "execute_result"
    }
   ],
   "source": [
    "pg.kruskal(data = df, dv = 'Price', between = 'FuelType')"
   ]
  },
  {
   "cell_type": "code",
   "execution_count": 62,
   "id": "e31a8bf2",
   "metadata": {},
   "outputs": [
    {
     "data": {
      "image/png": "[encoded data removed]",
      "text/plain": [
       "<Figure size 1200x600 with 1 Axes>"
      ]
     },
     "metadata": {},
     "output_type": "display_data"
    }
   ],
   "source": [
    "sns.kdeplot(data = df, x = 'Price', hue = 'FuelType', fill = True);"
   ]
  },
  {
   "cell_type": "code",
   "execution_count": 64,
   "id": "8b9f73d2",
   "metadata": {},
   "outputs": [
    {
     "data": {
      "text/html": [
       "<div>\n",
       "<style scoped>\n",
       "    .dataframe tbody tr th:only-of-type {\n",
       "        vertical-align: middle;\n",
       "    }\n",
       "\n",
       "    .dataframe tbody tr th {\n",
       "        vertical-align: top;\n",
       "    }\n",
       "\n",
       "    .dataframe thead th {\n",
       "        text-align: right;\n",
       "    }\n",
       "</style>\n",
       "<table border=\"1\" class=\"dataframe\">\n",
       "  <thead>\n",
       "    <tr style=\"text-align: right;\">\n",
       "      <th></th>\n",
       "      <th>Diesel</th>\n",
       "      <th>Petrol</th>\n",
       "      <th>CNG</th>\n",
       "    </tr>\n",
       "  </thead>\n",
       "  <tbody>\n",
       "    <tr>\n",
       "      <th>Diesel</th>\n",
       "      <td>1.000</td>\n",
       "      <td>0.016</td>\n",
       "      <td>0.900</td>\n",
       "    </tr>\n",
       "    <tr>\n",
       "      <th>Petrol</th>\n",
       "      <td>0.016</td>\n",
       "      <td>1.000</td>\n",
       "      <td>0.759</td>\n",
       "    </tr>\n",
       "    <tr>\n",
       "      <th>CNG</th>\n",
       "      <td>0.900</td>\n",
       "      <td>0.759</td>\n",
       "      <td>1.000</td>\n",
       "    </tr>\n",
       "  </tbody>\n",
       "</table>\n",
       "</div>"
      ],
      "text/plain": [
       "        Diesel  Petrol    CNG\n",
       "Diesel   1.000   0.016  0.900\n",
       "Petrol   0.016   1.000  0.759\n",
       "CNG      0.900   0.759  1.000"
      ]
     },
     "execution_count": 64,
     "metadata": {},
     "output_type": "execute_result"
    }
   ],
   "source": [
    "sp.posthoc_tukey(a = df, val_col = 'Price', group_col = 'FuelType')"
   ]
  },
  {
   "cell_type": "code",
   "execution_count": 66,
   "id": "21a1df78",
   "metadata": {},
   "outputs": [],
   "source": [
    "import HelloDataScience as hds"
   ]
  },
  {
   "cell_type": "code",
   "execution_count": 68,
   "id": "98763a45",
   "metadata": {},
   "outputs": [
    {
     "data": {
      "image/png": "[encoded data removed]",
      "text/plain": [
       "<Figure size 1200x600 with 1 Axes>"
      ]
     },
     "metadata": {},
     "output_type": "display_data"
    }
   ],
   "source": [
    "hds.plot_box_group(data = df, x = 'FuelType', y = 'Price',\n",
    "                   pal = ['0.6', '0.8', '1.0'])"
   ]
  },
  {
   "cell_type": "code",
   "execution_count": 69,
   "id": "3f7d04e3",
   "metadata": {},
   "outputs": [
    {
     "data": {
      "text/html": [
       "<div>\n",
       "<style scoped>\n",
       "    .dataframe tbody tr th:only-of-type {\n",
       "        vertical-align: middle;\n",
       "    }\n",
       "\n",
       "    .dataframe tbody tr th {\n",
       "        vertical-align: top;\n",
       "    }\n",
       "\n",
       "    .dataframe thead th {\n",
       "        text-align: right;\n",
       "    }\n",
       "</style>\n",
       "<table border=\"1\" class=\"dataframe\">\n",
       "  <thead>\n",
       "    <tr style=\"text-align: right;\">\n",
       "      <th></th>\n",
       "      <th>CNG</th>\n",
       "      <th>Diesel</th>\n",
       "      <th>Petrol</th>\n",
       "    </tr>\n",
       "  </thead>\n",
       "  <tbody>\n",
       "    <tr>\n",
       "      <th>CNG</th>\n",
       "      <td>1.000</td>\n",
       "      <td>0.954</td>\n",
       "      <td>0.676</td>\n",
       "    </tr>\n",
       "    <tr>\n",
       "      <th>Diesel</th>\n",
       "      <td>0.954</td>\n",
       "      <td>1.000</td>\n",
       "      <td>0.007</td>\n",
       "    </tr>\n",
       "    <tr>\n",
       "      <th>Petrol</th>\n",
       "      <td>0.676</td>\n",
       "      <td>0.007</td>\n",
       "      <td>1.000</td>\n",
       "    </tr>\n",
       "  </tbody>\n",
       "</table>\n",
       "</div>"
      ],
      "text/plain": [
       "          CNG  Diesel  Petrol\n",
       "CNG     1.000   0.954   0.676\n",
       "Diesel  0.954   1.000   0.007\n",
       "Petrol  0.676   0.007   1.000"
      ]
     },
     "execution_count": 69,
     "metadata": {},
     "output_type": "execute_result"
    }
   ],
   "source": [
    "sp.posthoc_nemenyi(a = df, val_col = 'Price', group_col = 'FuelType')"
   ]
  },
  {
   "cell_type": "code",
   "execution_count": 70,
   "id": "6c91153c",
   "metadata": {},
   "outputs": [
    {
     "data": {
      "text/html": [
       "<div>\n",
       "<style scoped>\n",
       "    .dataframe tbody tr th:only-of-type {\n",
       "        vertical-align: middle;\n",
       "    }\n",
       "\n",
       "    .dataframe tbody tr th {\n",
       "        vertical-align: top;\n",
       "    }\n",
       "\n",
       "    .dataframe thead th {\n",
       "        text-align: right;\n",
       "    }\n",
       "</style>\n",
       "<table border=\"1\" class=\"dataframe\">\n",
       "  <thead>\n",
       "    <tr style=\"text-align: right;\">\n",
       "      <th>Automatic</th>\n",
       "      <th>0</th>\n",
       "      <th>1</th>\n",
       "    </tr>\n",
       "    <tr>\n",
       "      <th>MetColor</th>\n",
       "      <th></th>\n",
       "      <th></th>\n",
       "    </tr>\n",
       "  </thead>\n",
       "  <tbody>\n",
       "    <tr>\n",
       "      <th>0</th>\n",
       "      <td>402</td>\n",
       "      <td>26</td>\n",
       "    </tr>\n",
       "    <tr>\n",
       "      <th>1</th>\n",
       "      <td>796</td>\n",
       "      <td>44</td>\n",
       "    </tr>\n",
       "  </tbody>\n",
       "</table>\n",
       "</div>"
      ],
      "text/plain": [
       "Automatic    0   1\n",
       "MetColor          \n",
       "0          402  26\n",
       "1          796  44"
      ]
     },
     "execution_count": 70,
     "metadata": {},
     "output_type": "execute_result"
    }
   ],
   "source": [
    "pd.crosstab(index = df['MetColor'], columns = df['Automatic'])"
   ]
  },
  {
   "cell_type": "code",
   "execution_count": 74,
   "id": "1094b57b",
   "metadata": {},
   "outputs": [
    {
     "data": {
      "text/html": [
       "<div>\n",
       "<style scoped>\n",
       "    .dataframe tbody tr th:only-of-type {\n",
       "        vertical-align: middle;\n",
       "    }\n",
       "\n",
       "    .dataframe tbody tr th {\n",
       "        vertical-align: top;\n",
       "    }\n",
       "\n",
       "    .dataframe thead th {\n",
       "        text-align: right;\n",
       "    }\n",
       "</style>\n",
       "<table border=\"1\" class=\"dataframe\">\n",
       "  <thead>\n",
       "    <tr style=\"text-align: right;\">\n",
       "      <th>Automatic</th>\n",
       "      <th>0</th>\n",
       "      <th>1</th>\n",
       "    </tr>\n",
       "    <tr>\n",
       "      <th>MetColor</th>\n",
       "      <th></th>\n",
       "      <th></th>\n",
       "    </tr>\n",
       "  </thead>\n",
       "  <tbody>\n",
       "    <tr>\n",
       "      <th>0</th>\n",
       "      <td>0.939</td>\n",
       "      <td>0.061</td>\n",
       "    </tr>\n",
       "    <tr>\n",
       "      <th>1</th>\n",
       "      <td>0.948</td>\n",
       "      <td>0.052</td>\n",
       "    </tr>\n",
       "    <tr>\n",
       "      <th>합계</th>\n",
       "      <td>0.945</td>\n",
       "      <td>0.055</td>\n",
       "    </tr>\n",
       "  </tbody>\n",
       "</table>\n",
       "</div>"
      ],
      "text/plain": [
       "Automatic      0      1\n",
       "MetColor               \n",
       "0          0.939  0.061\n",
       "1          0.948  0.052\n",
       "합계         0.945  0.055"
      ]
     },
     "execution_count": 74,
     "metadata": {},
     "output_type": "execute_result"
    }
   ],
   "source": [
    "pd.crosstab(index = df['MetColor'], columns = df['Automatic'], \n",
    "            margins = True, margins_name = '합계', \n",
    "            normalize = 'index')"
   ]
  },
  {
   "cell_type": "code",
   "execution_count": 75,
   "id": "2bcae8c0",
   "metadata": {},
   "outputs": [
    {
     "data": {
      "text/plain": [
       "(Automatic        0       1\n",
       " MetColor                  \n",
       " 0          404.372  23.628\n",
       " 1          793.628  46.372,\n",
       " Automatic      0     1\n",
       " MetColor              \n",
       " 0          402.5  25.5\n",
       " 1          795.5  44.5,\n",
       "                  test  lambda   chi2  dof   pval  cramer  power\n",
       " 0             pearson   1.000  0.237  1.0  0.626   0.014  0.078\n",
       " 1        cressie-read   0.667  0.236  1.0  0.627   0.014  0.077\n",
       " 2      log-likelihood   0.000  0.234  1.0  0.628   0.014  0.077\n",
       " 3       freeman-tukey  -0.500  0.233  1.0  0.629   0.014  0.077\n",
       " 4  mod-log-likelihood  -1.000  0.232  1.0  0.630   0.014  0.077\n",
       " 5              neyman  -2.000  0.229  1.0  0.632   0.013  0.077)"
      ]
     },
     "execution_count": 75,
     "metadata": {},
     "output_type": "execute_result"
    }
   ],
   "source": [
    "pg.chi2_independence(data = df, x = 'MetColor', y = 'Automatic')"
   ]
  },
  {
   "cell_type": "code",
   "execution_count": null,
   "id": "146ce414",
   "metadata": {},
   "outputs": [],
   "source": []
  }
 ],
 "metadata": {
  "kernelspec": {
   "display_name": "Python 3 (ipykernel)",
   "language": "python",
   "name": "python3"
  },
  "language_info": {
   "codemirror_mode": {
    "name": "ipython",
    "version": 3
   },
   "file_extension": ".py",
   "mimetype": "text/x-python",
   "name": "python",
   "nbconvert_exporter": "python",
   "pygments_lexer": "ipython3",
   "version": "3.10.8"
  }
 },
 "nbformat": 4,
 "nbformat_minor": 5
}
